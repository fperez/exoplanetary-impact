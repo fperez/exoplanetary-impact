{
 "cells": [
  {
   "cell_type": "markdown",
   "id": "3d7679c3-428d-42c2-be5a-bbbc29989d9b",
   "metadata": {},
   "source": [
    "# Stellar Spectra Conversion\n",
    "\n",
    "Created on June 6th 2022 @ 3rd Eddy Cross Disciplinary Symposium, Vail, CO, USA\n",
    "Code based on original idea by Dan Marsh (NCAR, University of Leeds).\n",
    "\n",
    "**Authors:**\n",
    "* Gregory Cooke (University of Leeds, pygjc@leeds.ac.uk)\n",
    "* Allison Youngblood (NASA Goddard)\n",
    "\n",
    "## User Guide\n",
    "Code to read in files from the MUSCLES database\n",
    "and scale them to be used in various atmospheric models\n",
    "for different planets in those stellar systems\n",
    "\n",
    "Run each cell until drop down menus appear\n",
    "Select your desired options from dropdown menus\n",
    "\n",
    "## To do list\n",
    "* rebin spectra\n",
    "* save out spectra file\n",
    "* add different climate model wavelength grids (only WACCM, ROCKE-3D so far)\n",
    "* comment code better"
   ]
  },
  {
   "cell_type": "code",
   "execution_count": 1,
   "id": "9627b4fc-0866-48a6-9f1f-ceb02cb0f1b9",
   "metadata": {},
   "outputs": [],
   "source": [
    "#imports\n",
    "import matplotlib.pyplot as plt\n",
    "import numpy as np\n",
    "import xarray as xr\n",
    "from ipywidgets import interactive\n",
    "import matplotlib.gridspec as gridspec\n",
    "from astropy.io import fits"
   ]
  },
  {
   "cell_type": "code",
   "execution_count": 2,
   "id": "34a5978e-4483-43e7-8ed2-1e377b3b4e98",
   "metadata": {},
   "outputs": [],
   "source": [
    "# return subscript number or text as a string\n",
    "def sub(Input):\n",
    "    return r'$_{'+str(Input)+'}$'\n",
    "\n",
    "# return superscript number or text as a string\n",
    "def sup(Input):\n",
    "    return r'$^{'+str(Input)+'}$'"
   ]
  },
  {
   "cell_type": "markdown",
   "id": "fc165834-9ae2-4f47-beb6-254f4a4ed55a",
   "metadata": {},
   "source": [
    "## List of MUSCLES database below\n",
    "\n",
    "Program options begin here."
   ]
  },
  {
   "cell_type": "code",
   "execution_count": 3,
   "id": "23d57891-90b6-497f-8f2f-eb6cecf4a344",
   "metadata": {},
   "outputs": [
    {
     "data": {
      "application/vnd.jupyter.widget-view+json": {
       "model_id": "d92461ba55db4bbb9bae41b02718ee86",
       "version_major": 2,
       "version_minor": 0
      },
      "text/plain": [
       "Dropdown(description='MUSCLES Files:', options={'GJ 1132': 'https://archive.stsci.edu/missions/hlsp/muscles/gj…"
      ]
     },
     "metadata": {},
     "output_type": "display_data"
    }
   ],
   "source": [
    "Stellar_names = {'GJ 1132':'https://archive.stsci.edu/missions/hlsp/muscles/gj1132/hlsp_muscles_multi_multi_gj1132_broadband_v23_adapt-const-res-sed.fits',\n",
    "                 'GJ 15A':'https://archive.stsci.edu/missions/hlsp/muscles/gj15a/hlsp_muscles_multi_multi_gj15a_broadband_v23_adapt-const-res-sed.fits',\n",
    "                 'GJ 1214':'https://archive.stsci.edu/missions/hlsp/muscles/gj1214/hlsp_muscles_multi_multi_gj1214_broadband_v22_adapt-const-res-sed.fits',\n",
    "                 'GJ 163':'https://archive.stsci.edu/missions/hlsp/muscles/gj163/hlsp_muscles_multi_multi_gj163_broadband_v23_adapt-const-res-sed.fits',\n",
    "                 'GJ 176':'https://archive.stsci.edu/missions/hlsp/muscles/gj176/hlsp_muscles_multi_multi_gj176_broadband_v22_adapt-const-res-sed.fits',\n",
    "                 'GJ 436':'https://archive.stsci.edu/missions/hlsp/muscles/gj436/hlsp_muscles_multi_multi_gj436_broadband_v22_adapt-const-res-sed.fits',\n",
    "                 'GJ 581':'https://archive.stsci.edu/missions/hlsp/muscles/gj581/hlsp_muscles_multi_multi_gj581_broadband_v22_adapt-const-res-sed.fits',\n",
    "                 'GJ 649':'https://archive.stsci.edu/missions/hlsp/muscles/gj649/hlsp_muscles_multi_multi_gj649_broadband_v23_adapt-const-res-sed.fits',\n",
    "                 'GJ 667 C':'https://archive.stsci.edu/missions/hlsp/muscles/gj667c/hlsp_muscles_multi_multi_gj667c_broadband_v22_adapt-const-res-sed.fits',\n",
    "                 'GJ 674':'https://archive.stsci.edu/missions/hlsp/muscles/gj674/hlsp_muscles_multi_multi_gj674_broadband_v23_adapt-const-res-sed.fits',\n",
    "                 'GJ 676 A':'https://archive.stsci.edu/missions/hlsp/muscles/gj676a/hlsp_muscles_multi_multi_gj676a_broadband_v23_adapt-const-res-sed.fits',\n",
    "                 'GJ 699':'https://archive.stsci.edu/missions/hlsp/muscles/gj699/hlsp_muscles_multi_multi_gj699_broadband_v23_adapt-const-res-sed.fits',\n",
    "                 'GJ 729':'https://archive.stsci.edu/missions/hlsp/muscles/gj729/hlsp_muscles_multi_multi_gj729_broadband_v23_adapt-const-res-sed.fits',\n",
    "                 'GJ 832':'https://archive.stsci.edu/missions/hlsp/muscles/gj832/hlsp_muscles_multi_multi_gj832_broadband_v22_adapt-const-res-sed.fits',\n",
    "                 'GJ 849':'https://archive.stsci.edu/missions/hlsp/muscles/gj849/hlsp_muscles_multi_multi_gj849_broadband_v23_adapt-const-res-sed.fits',\n",
    "                 'GJ 876':'https://archive.stsci.edu/missions/hlsp/muscles/gj876/hlsp_muscles_multi_multi_gj876_broadband_v22_adapt-const-res-sed.fits',\n",
    "                 'HD40307':'https://archive.stsci.edu/missions/hlsp/muscles/hd40307/hlsp_muscles_multi_multi_hd40307_broadband_v22_adapt-const-res-sed.fits',\n",
    "                 'HD85512':'https://archive.stsci.edu/missions/hlsp/muscles/hd85512/hlsp_muscles_multi_multi_hd85512_broadband_v22_adapt-const-res-sed.fits',\n",
    "                 'HD97658':'https://archive.stsci.edu/missions/hlsp/muscles/hd97658/hlsp_muscles_multi_multi_hd97658_broadband_v22_adapt-const-res-sed.fits',\n",
    "                 'L-980-5':'https://archive.stsci.edu/missions/hlsp/muscles/l-980-5/hlsp_muscles_multi_multi_l-980-5_broadband_v23_adapt-const-res-sed.fits',\n",
    "                 'LHS-2686':'https://archive.stsci.edu/missions/hlsp/muscles/lhs-2686/hlsp_muscles_multi_multi_lhs-2686_broadband_v23_adapt-const-res-sed.fits',\n",
    "                 'TRAPPIST-1':'https://archive.stsci.edu/missions/hlsp/muscles/trappist-1/hlsp_muscles_multi_multi_trappist-1_broadband_v23_adapt-const-res-sed.fits',\n",
    "                 'V-EPS-ERI':'https://archive.stsci.edu/missions/hlsp/muscles/v-eps-eri/hlsp_muscles_multi_multi_v-eps-eri_broadband_v22_adapt-const-res-sed.fits',\n",
    "                 'GJ551':'https://archive.stsci.edu/missions/hlsp/muscles/gj551/hlsp_muscles_multi_multi_gj551_broadband_v22_adapt-const-res-sed.fits'}\n",
    "\n",
    "#get a drop down menu\n",
    "import ipywidgets as widgets\n",
    "#select directories for MUSCLES files\n",
    "MUSCLES_files = widgets.Dropdown(options=(Stellar_names),description='MUSCLES Files:',disabled=False)\n",
    "display(MUSCLES_files)"
   ]
  },
  {
   "cell_type": "code",
   "execution_count": 4,
   "id": "6507a256-e63c-4b92-bd47-3233156f339d",
   "metadata": {},
   "outputs": [],
   "source": [
    "'''\n",
    "set Spectra_name_same_as_host_name = False if looking at exoplanets around\n",
    "a different star to the ones in the MUSCLES database\n",
    "i.e you want spectra for an M8 star but the closest spectra availiable is TRAPPIST-1\n",
    "otherwise in this example you will only be able to select TRAPPIST-1 planets \n",
    "if Spectra_name_same_as_host_name = True\n",
    "'''\n",
    "Spectra_name_same_as_host_name = True"
   ]
  },
  {
   "cell_type": "code",
   "execution_count": 5,
   "id": "de2d5d04-18d5-4fc8-8071-d5e6f29131ac",
   "metadata": {},
   "outputs": [],
   "source": [
    "#get star name\n",
    "star_name = [k for k, v in Stellar_names.items() if v == MUSCLES_files.value][0]\n"
   ]
  },
  {
   "cell_type": "markdown",
   "id": "d24e56b3-3b2a-4115-a8ee-b2463d3bc359",
   "metadata": {},
   "source": [
    "## Import MUSCLES spectra"
   ]
  },
  {
   "cell_type": "code",
   "execution_count": 6,
   "id": "535a97a5-e88b-422a-a61f-c932929d7ba3",
   "metadata": {},
   "outputs": [
    {
     "name": "stderr",
     "output_type": "stream",
     "text": [
      "--2022-06-09 16:25:26--  https://archive.stsci.edu/missions/hlsp/muscles/gj1132/hlsp_muscles_multi_multi_gj1132_broadband_v23_adapt-const-res-sed.fits\n",
      "Resolving archive.stsci.edu (archive.stsci.edu)... 130.167.201.60\n",
      "Connecting to archive.stsci.edu (archive.stsci.edu)|130.167.201.60|:443... connected.\n",
      "HTTP request sent, awaiting response... 200 OK\n",
      "Length: 13538880 (13M) [allicashion/octet-stream]\n",
      "Saving to: ‘hlsp_muscles_multi_multi_gj1132_broadband_v23_adapt-const-res-sed.fits’\n",
      "\n",
      "     0K .......... .......... .......... .......... ..........  0%  613K 22s\n",
      "    50K .......... .......... .......... .......... ..........  0%  599K 22s\n",
      "   100K .......... .......... .......... .......... ..........  1%  147M 14s\n",
      "   150K .......... .......... .......... .......... ..........  1% 1.18M 13s\n",
      "   200K .......... .......... .......... .......... ..........  1% 65.8M 11s\n",
      "   250K .......... .......... .......... .......... ..........  2%  242M 9s\n",
      "   300K .......... .......... .......... .......... ..........  2% 1.21M 9s\n",
      "   350K .......... .......... .......... .......... ..........  3%  132M 8s\n",
      "   400K .......... .......... .......... .......... ..........  3% 36.6M 7s\n",
      "   450K .......... .......... .......... .......... ..........  3%  246M 6s\n",
      "   500K .......... .......... .......... .......... ..........  4% 91.7M 6s\n",
      "   550K .......... .......... .......... .......... ..........  4%  202M 5s\n",
      "   600K .......... .......... .......... .......... ..........  4%  118M 5s\n",
      "   650K .......... .......... .......... .......... ..........  5% 1.24M 5s\n",
      "   700K .......... .......... .......... .......... ..........  5%  249M 5s\n",
      "   750K .......... .......... .......... .......... ..........  6%  139M 5s\n",
      "   800K .......... .......... .......... .......... ..........  6%  119M 4s\n",
      "   850K .......... .......... .......... .......... ..........  6%  133M 4s\n",
      "   900K .......... .......... .......... .......... ..........  7%  149M 4s\n",
      "   950K .......... .......... .......... .......... ..........  7%  145M 4s\n",
      "  1000K .......... .......... .......... .......... ..........  7%  139M 3s\n",
      "  1050K .......... .......... .......... .......... ..........  8% 99.8M 3s\n",
      "  1100K .......... .......... .......... .......... ..........  8%  139M 3s\n",
      "  1150K .......... .......... .......... .......... ..........  9%  165M 3s\n",
      "  1200K .......... .......... .......... .......... ..........  9%  138M 3s\n",
      "  1250K .......... .......... .......... .......... ..........  9%  150M 3s\n",
      "  1300K .......... .......... .......... .......... .......... 10% 1.30M 3s\n",
      "  1350K .......... .......... .......... .......... .......... 10%  214M 3s\n",
      "  1400K .......... .......... .......... .......... .......... 10%  179M 3s\n",
      "  1450K .......... .......... .......... .......... .......... 11%  141M 3s\n",
      "  1500K .......... .......... .......... .......... .......... 11%  180M 3s\n",
      "  1550K .......... .......... .......... .......... .......... 12%  149M 2s\n",
      "  1600K .......... .......... .......... .......... .......... 12%  145M 2s\n",
      "  1650K .......... .......... .......... .......... .......... 12%  126M 2s\n",
      "  1700K .......... .......... .......... .......... .......... 13%  249M 2s\n",
      "  1750K .......... .......... .......... .......... .......... 13%  146M 2s\n",
      "  1800K .......... .......... .......... .......... .......... 13%  153M 2s\n",
      "  1850K .......... .......... .......... .......... .......... 14%  153M 2s\n",
      "  1900K .......... .......... .......... .......... .......... 14%  156M 2s\n",
      "  1950K .......... .......... .......... .......... .......... 15%  181M 2s\n",
      "  2000K .......... .......... .......... .......... .......... 15%  144M 2s\n",
      "  2050K .......... .......... .......... .......... .......... 15%  129M 2s\n",
      "  2100K .......... .......... .......... .......... .......... 16%  148M 2s\n",
      "  2150K .......... .......... .......... .......... .......... 16%  143M 2s\n",
      "  2200K .......... .......... .......... .......... .......... 17%  122M 2s\n",
      "  2250K .......... .......... .......... .......... .......... 17%  150M 2s\n",
      "  2300K .......... .......... .......... .......... .......... 17%  145M 2s\n",
      "  2350K .......... .......... .......... .......... .......... 18%  158M 2s\n",
      "  2400K .......... .......... .......... .......... .......... 18%  134M 1s\n",
      "  2450K .......... .......... .......... .......... .......... 18%  146M 1s\n",
      "  2500K .......... .......... .......... .......... .......... 19%  163M 1s\n",
      "  2550K .......... .......... .......... .......... .......... 19%  155M 1s\n",
      "  2600K .......... .......... .......... .......... .......... 20% 1.46M 1s\n",
      "  2650K .......... .......... .......... .......... .......... 20% 42.1M 1s\n",
      "  2700K .......... .......... .......... .......... .......... 20%  175M 1s\n",
      "  2750K .......... .......... .......... .......... .......... 21% 68.8M 1s\n",
      "  2800K .......... .......... .......... .......... .......... 21%  109M 1s\n",
      "  2850K .......... .......... .......... .......... .......... 21%  161M 1s\n",
      "  2900K .......... .......... .......... .......... .......... 22%  134M 1s\n",
      "  2950K .......... .......... .......... .......... .......... 22%  162M 1s\n",
      "  3000K .......... .......... .......... .......... .......... 23%  120M 1s\n",
      "  3050K .......... .......... .......... .......... .......... 23%  159M 1s\n",
      "  3100K .......... .......... .......... .......... .......... 23%  138M 1s\n",
      "  3150K .......... .......... .......... .......... .......... 24%  145M 1s\n",
      "  3200K .......... .......... .......... .......... .......... 24%  147M 1s\n",
      "  3250K .......... .......... .......... .......... .......... 24% 58.7M 1s\n",
      "  3300K .......... .......... .......... .......... .......... 25%  208M 1s\n",
      "  3350K .......... .......... .......... .......... .......... 25%  125M 1s\n",
      "  3400K .......... .......... .......... .......... .......... 26% 68.0M 1s\n",
      "  3450K .......... .......... .......... .......... .......... 26%  131M 1s\n",
      "  3500K .......... .......... .......... .......... .......... 26%  141M 1s\n",
      "  3550K .......... .......... .......... .......... .......... 27%  171M 1s\n",
      "  3600K .......... .......... .......... .......... .......... 27% 71.3M 1s\n",
      "  3650K .......... .......... .......... .......... .......... 27% 95.9M 1s\n",
      "  3700K .......... .......... .......... .......... .......... 28%  115M 1s\n",
      "  3750K .......... .......... .......... .......... .......... 28% 41.1M 1s\n",
      "  3800K .......... .......... .......... .......... .......... 29%  122M 1s\n",
      "  3850K .......... .......... .......... .......... .......... 29%  150M 1s\n",
      "  3900K .......... .......... .......... .......... .......... 29%  135M 1s\n",
      "  3950K .......... .......... .......... .......... .......... 30%  148M 1s\n",
      "  4000K .......... .......... .......... .......... .......... 30%  108M 1s\n",
      "  4050K .......... .......... .......... .......... .......... 31%  157M 1s\n",
      "  4100K .......... .......... .......... .......... .......... 31%  122M 1s\n",
      "  4150K .......... .......... .......... .......... .......... 31%  154M 1s\n",
      "  4200K .......... .......... .......... .......... .......... 32%  121M 1s\n",
      "  4250K .......... .......... .......... .......... .......... 32%  157M 1s\n",
      "  4300K .......... .......... .......... .......... .......... 32%  137M 1s\n",
      "  4350K .......... .......... .......... .......... .......... 33%  128M 1s\n",
      "  4400K .......... .......... .......... .......... .......... 33%  157M 1s\n",
      "  4450K .......... .......... .......... .......... .......... 34%  140M 1s\n",
      "  4500K .......... .......... .......... .......... .......... 34%  182M 1s\n",
      "  4550K .......... .......... .......... .......... .......... 34%  137M 1s\n",
      "  4600K .......... .......... .......... .......... .......... 35%  133M 1s\n",
      "  4650K .......... .......... .......... .......... .......... 35%  138M 1s\n",
      "  4700K .......... .......... .......... .......... .......... 35%  136M 1s\n",
      "  4750K .......... .......... .......... .......... .......... 36%  201M 1s\n",
      "  4800K .......... .......... .......... .......... .......... 36%  127M 1s\n",
      "  4850K .......... .......... .......... .......... .......... 37%  140M 1s\n",
      "  4900K .......... .......... .......... .......... .......... 37%  160M 1s\n",
      "  4950K .......... .......... .......... .......... .......... 37%  144M 1s\n",
      "  5000K .......... .......... .......... .......... .......... 38%  126M 1s\n",
      "  5050K .......... .......... .......... .......... .......... 38%  153M 1s\n",
      "  5100K .......... .......... .......... .......... .......... 38%  158M 1s\n",
      "  5150K .......... .......... .......... .......... .......... 39%  151M 1s\n",
      "  5200K .......... .......... .......... .......... .......... 39% 2.29M 1s\n",
      "  5250K .......... .......... .......... .......... .......... 40%  132M 1s\n",
      "  5300K .......... .......... .......... .......... .......... 40% 26.0M 1s\n",
      "  5350K .......... .......... .......... .......... .......... 40%  179M 1s\n",
      "  5400K .......... .......... .......... .......... .......... 41%  127M 1s\n",
      "  5450K .......... .......... .......... .......... .......... 41%  108M 1s\n",
      "  5500K .......... .......... .......... .......... .......... 41%  172M 1s\n",
      "  5550K .......... .......... .......... .......... .......... 42% 80.6M 1s\n",
      "  5600K .......... .......... .......... .......... .......... 42%  163M 1s\n",
      "  5650K .......... .......... .......... .......... .......... 43%  127M 1s\n",
      "  5700K .......... .......... .......... .......... .......... 43%  125M 1s\n",
      "  5750K .......... .......... .......... .......... .......... 43%  183M 1s\n",
      "  5800K .......... .......... .......... .......... .......... 44%  102M 1s\n",
      "  5850K .......... .......... .......... .......... .......... 44%  139M 1s\n",
      "  5900K .......... .......... .......... .......... .......... 45%  154M 1s\n",
      "  5950K .......... .......... .......... .......... .......... 45%  159M 1s\n",
      "  6000K .......... .......... .......... .......... .......... 45%  137M 1s\n",
      "  6050K .......... .......... .......... .......... .......... 46%  149M 0s\n",
      "  6100K .......... .......... .......... .......... .......... 46% 83.6M 0s\n",
      "  6150K .......... .......... .......... .......... .......... 46%  105M 0s\n",
      "  6200K .......... .......... .......... .......... .......... 47%  101M 0s\n",
      "  6250K .......... .......... .......... .......... .......... 47%  105M 0s\n",
      "  6300K .......... .......... .......... .......... .......... 48%  107M 0s\n",
      "  6350K .......... .......... .......... .......... .......... 48%  106M 0s\n",
      "  6400K .......... .......... .......... .......... .......... 48%  140M 0s\n",
      "  6450K .......... .......... .......... .......... .......... 49%  156M 0s\n",
      "  6500K .......... .......... .......... .......... .......... 49%  123M 0s\n",
      "  6550K .......... .......... .......... .......... .......... 49%  160M 0s\n",
      "  6600K .......... .......... .......... .......... .......... 50%  143M 0s\n",
      "  6650K .......... .......... .......... .......... .......... 50%  127M 0s\n",
      "  6700K .......... .......... .......... .......... .......... 51%  173M 0s\n",
      "  6750K .......... .......... .......... .......... .......... 51%  122M 0s\n",
      "  6800K .......... .......... .......... .......... .......... 51%  156M 0s\n",
      "  6850K .......... .......... .......... .......... .......... 52%  149M 0s\n",
      "  6900K .......... .......... .......... .......... .......... 52%  153M 0s\n",
      "  6950K .......... .......... .......... .......... .......... 52%  130M 0s\n",
      "  7000K .......... .......... .......... .......... .......... 53%  143M 0s\n",
      "  7050K .......... .......... .......... .......... .......... 53%  142M 0s\n",
      "  7100K .......... .......... .......... .......... .......... 54%  129M 0s\n",
      "  7150K .......... .......... .......... .......... .......... 54%  154M 0s\n",
      "  7200K .......... .......... .......... .......... .......... 54%  115M 0s\n",
      "  7250K .......... .......... .......... .......... .......... 55%  133M 0s\n",
      "  7300K .......... .......... .......... .......... .......... 55%  147M 0s\n",
      "  7350K .......... .......... .......... .......... .......... 55%  140M 0s\n",
      "  7400K .......... .......... .......... .......... .......... 56%  130M 0s\n",
      "  7450K .......... .......... .......... .......... .......... 56%  161M 0s\n",
      "  7500K .......... .......... .......... .......... .......... 57% 85.8M 0s\n",
      "  7550K .......... .......... .......... .......... .......... 57%  187M 0s\n",
      "  7600K .......... .......... .......... .......... .......... 57%  127M 0s\n",
      "  7650K .......... .......... .......... .......... .......... 58%  131M 0s\n",
      "  7700K .......... .......... .......... .......... .......... 58%  134M 0s\n",
      "  7750K .......... .......... .......... .......... .......... 58%  176M 0s\n",
      "  7800K .......... .......... .......... .......... .......... 59% 80.7M 0s\n",
      "  7850K .......... .......... .......... .......... .......... 59%  147M 0s\n",
      "  7900K .......... .......... .......... .......... .......... 60%  107M 0s\n",
      "  7950K .......... .......... .......... .......... .......... 60%  160M 0s\n",
      "  8000K .......... .......... .......... .......... .......... 60%  137M 0s\n",
      "  8050K .......... .......... .......... .......... .......... 61%  131M 0s\n",
      "  8100K .......... .......... .......... .......... .......... 61% 2.66M 0s\n",
      "  8150K .......... .......... .......... .......... .......... 62%  177M 0s\n",
      "  8200K .......... .......... .......... .......... .......... 62%  140M 0s\n",
      "  8250K .......... .......... .......... .......... .......... 62%  118M 0s\n",
      "  8300K .......... .......... .......... .......... .......... 63% 33.4M 0s\n",
      "  8350K .......... .......... .......... .......... .......... 63%  219M 0s\n",
      "  8400K .......... .......... .......... .......... .......... 63% 53.4M 0s\n",
      "  8450K .......... .......... .......... .......... .......... 64%  110M 0s\n",
      "  8500K .......... .......... .......... .......... .......... 64% 19.8M 0s\n",
      "  8550K .......... .......... .......... .......... .......... 65%  193M 0s\n",
      "  8600K .......... .......... .......... .......... .......... 65% 63.0M 0s\n",
      "  8650K .......... .......... .......... .......... .......... 65% 79.2M 0s\n",
      "  8700K .......... .......... .......... .......... .......... 66%  172M 0s\n",
      "  8750K .......... .......... .......... .......... .......... 66%  141M 0s\n",
      "  8800K .......... .......... .......... .......... .......... 66%  115M 0s\n",
      "  8850K .......... .......... .......... .......... .......... 67%  162M 0s\n",
      "  8900K .......... .......... .......... .......... .......... 67%  141M 0s\n",
      "  8950K .......... .......... .......... .......... .......... 68%  175M 0s\n",
      "  9000K .......... .......... .......... .......... .......... 68% 96.9M 0s\n",
      "  9050K .......... .......... .......... .......... .......... 68%  163M 0s\n",
      "  9100K .......... .......... .......... .......... .......... 69%  116M 0s\n",
      "  9150K .......... .......... .......... .......... .......... 69%  180M 0s\n",
      "  9200K .......... .......... .......... .......... .......... 69%  115M 0s\n",
      "  9250K .......... .......... .......... .......... .......... 70%  123M 0s\n",
      "  9300K .......... .......... .......... .......... .......... 70%  159M 0s\n",
      "  9350K .......... .......... .......... .......... .......... 71%  143M 0s\n",
      "  9400K .......... .......... .......... .......... .......... 71%  135M 0s\n",
      "  9450K .......... .......... .......... .......... .......... 71%  156M 0s\n",
      "  9500K .......... .......... .......... .......... .......... 72%  136M 0s\n",
      "  9550K .......... .......... .......... .......... .......... 72%  169M 0s\n",
      "  9600K .......... .......... .......... .......... .......... 72% 90.4M 0s\n",
      "  9650K .......... .......... .......... .......... .......... 73%  131M 0s\n",
      "  9700K .......... .......... .......... .......... .......... 73%  145M 0s\n",
      "  9750K .......... .......... .......... .......... .......... 74%  128M 0s\n",
      "  9800K .......... .......... .......... .......... .......... 74%  152M 0s\n",
      "  9850K .......... .......... .......... .......... .......... 74%  161M 0s\n",
      "  9900K .......... .......... .......... .......... .......... 75%  129M 0s\n",
      "  9950K .......... .......... .......... .......... .......... 75%  158M 0s\n",
      " 10000K .......... .......... .......... .......... .......... 76% 36.3M 0s\n",
      " 10050K .......... .......... .......... .......... .......... 76%  123M 0s\n",
      " 10100K .......... .......... .......... .......... .......... 76%  135M 0s\n",
      " 10150K .......... .......... .......... .......... .......... 77%  191M 0s\n",
      " 10200K .......... .......... .......... .......... .......... 77%  103M 0s\n",
      " 10250K .......... .......... .......... .......... .......... 77%  164M 0s\n",
      " 10300K .......... .......... .......... .......... .......... 78%  152M 0s\n",
      " 10350K .......... .......... .......... .......... .......... 78%  148M 0s\n",
      " 10400K .......... .......... .......... .......... .......... 79%  133M 0s\n",
      " 10450K .......... .......... .......... .......... .......... 79%  116M 0s\n",
      " 10500K .......... .......... .......... .......... .......... 79%  172M 0s\n",
      " 10550K .......... .......... .......... .......... .......... 80% 65.7M 0s\n",
      " 10600K .......... .......... .......... .......... .......... 80%  125M 0s\n",
      " 10650K .......... .......... .......... .......... .......... 80% 87.5M 0s\n",
      " 10700K .......... .......... .......... .......... .......... 81%  176M 0s\n",
      " 10750K .......... .......... .......... .......... .......... 81%  128M 0s\n",
      " 10800K .......... .......... .......... .......... .......... 82%  141M 0s\n",
      " 10850K .......... .......... .......... .......... .......... 82%  147M 0s\n",
      " 10900K .......... .......... .......... .......... .......... 82%  164M 0s\n",
      " 10950K .......... .......... .......... .......... .......... 83% 2.77M 0s\n",
      " 11000K .......... .......... .......... .......... .......... 83%  111M 0s\n",
      " 11050K .......... .......... .......... .......... .......... 83%  100M 0s\n",
      " 11100K .......... .......... .......... .......... .......... 84%  141M 0s\n",
      " 11150K .......... .......... .......... .......... .......... 84%  163M 0s\n",
      " 11200K .......... .......... .......... .......... .......... 85%  120M 0s\n",
      " 11250K .......... .......... .......... .......... .......... 85%  148M 0s\n",
      " 11300K .......... .......... .......... .......... .......... 85%  134M 0s\n",
      " 11350K .......... .......... .......... .......... .......... 86%  171M 0s\n",
      " 11400K .......... .......... .......... .......... .......... 86%  122M 0s\n",
      " 11450K .......... .......... .......... .......... .......... 86%  139M 0s\n",
      " 11500K .......... .......... .......... .......... .......... 87%  169M 0s\n",
      " 11550K .......... .......... .......... .......... .......... 87% 47.7M 0s\n",
      " 11600K .......... .......... .......... .......... .......... 88% 49.8M 0s\n",
      " 11650K .......... .......... .......... .......... .......... 88% 85.1M 0s\n",
      " 11700K .......... .......... .......... .......... .......... 88%  128M 0s\n",
      " 11750K .......... .......... .......... .......... .......... 89%  109M 0s\n",
      " 11800K .......... .......... .......... .......... .......... 89%  159M 0s\n",
      " 11850K .......... .......... .......... .......... .......... 90% 36.9M 0s\n",
      " 11900K .......... .......... .......... .......... .......... 90%  176M 0s\n",
      " 11950K .......... .......... .......... .......... .......... 90%  136M 0s\n",
      " 12000K .......... .......... .......... .......... .......... 91%  159M 0s\n",
      " 12050K .......... .......... .......... .......... .......... 91% 61.3M 0s\n",
      " 12100K .......... .......... .......... .......... .......... 91%  210M 0s\n",
      " 12150K .......... .......... .......... .......... .......... 92%  124M 0s\n",
      " 12200K .......... .......... .......... .......... .......... 92%  229M 0s\n",
      " 12250K .......... .......... .......... .......... .......... 93% 39.1M 0s\n",
      " 12300K .......... .......... .......... .......... .......... 93%  150M 0s\n",
      " 12350K .......... .......... .......... .......... .......... 93%  162M 0s\n",
      " 12400K .......... .......... .......... .......... .......... 94%  127M 0s\n",
      " 12450K .......... .......... .......... .......... .......... 94%  134M 0s\n",
      " 12500K .......... .......... .......... .......... .......... 94%  198M 0s\n",
      " 12550K .......... .......... .......... .......... .......... 95%  132M 0s\n",
      " 12600K .......... .......... .......... .......... .......... 95% 49.7M 0s\n",
      " 12650K .......... .......... .......... .......... .......... 96%  244M 0s\n",
      " 12700K .......... .......... .......... .......... .......... 96%  104M 0s\n",
      " 12750K .......... .......... .......... .......... .......... 96%  145M 0s\n",
      " 12800K .......... .......... .......... .......... .......... 97%  125M 0s\n",
      " 12850K .......... .......... .......... .......... .......... 97%  155M 0s\n",
      " 12900K .......... .......... .......... .......... .......... 97%  129M 0s\n",
      " 12950K .......... .......... .......... .......... .......... 98%  141M 0s\n",
      " 13000K .......... .......... .......... .......... .......... 98%  141M 0s\n",
      " 13050K .......... .......... .......... .......... .......... 99%  124M 0s\n",
      " 13100K .......... .......... .......... .......... .......... 99%  160M 0s\n",
      " 13150K .......... .......... .......... .......... .......... 99%  159M 0s\n",
      " 13200K .......... .......... .                               100%  143M=0.5s\n",
      "\n",
      "2022-06-09 16:25:27 (24.8 MB/s) - ‘hlsp_muscles_multi_multi_gj1132_broadband_v23_adapt-const-res-sed.fits’ saved [13538880/13538880]\n",
      "\n"
     ]
    }
   ],
   "source": [
    "import os\n",
    "if(os.path.isfile(MUSCLES_files.value)): print('File already downloaded')\n",
    "else:os.system('wget '+ MUSCLES_files.value)"
   ]
  },
  {
   "cell_type": "code",
   "execution_count": 7,
   "id": "f48bbecf-13f8-4da7-804e-29ebd95ecd1d",
   "metadata": {},
   "outputs": [
    {
     "data": {
      "image/png": "[encoded data removed]",
      "text/plain": [
       "<Figure size 864x360 with 1 Axes>"
      ]
     },
     "metadata": {
      "needs_background": "light"
     },
     "output_type": "display_data"
    }
   ],
   "source": [
    "spec = fits.getdata(MUSCLES_files.value,1)\n",
    "plt.figure(figsize = (12,5))\n",
    "plt.plot(spec['WAVELENGTH'],spec['FLUX'], color = 'k', label = 'MUSCLES spectra of '+star_name)\n",
    "plt.tick_params(labelsize = 15, width = 2, length = 4, right = True, top = True)\n",
    "plt.xlabel('Wavelength', fontsize = 15); plt.xscale('log')\n",
    "plt.ylabel('Flux Density (erg/cm2/s/Ang)', fontsize = 15); plt.yscale('log')\n",
    "plt.legend(loc = 0, frameon = False, fontsize = 15);"
   ]
  },
  {
   "cell_type": "code",
   "execution_count": 8,
   "id": "63f9a9e1-eadd-4905-8011-068aaa5f0a8a",
   "metadata": {},
   "outputs": [],
   "source": [
    "#convert to mW/m2/nm\n",
    "per_cm2_to_per_m2 = 100**2\n",
    "erg_per_s_to_mW = 1e-4\n",
    "per_Ang_to_per_nm = 10\n",
    "New_flux = spec['FLUX'] * erg_per_s_to_mW * per_cm2_to_per_m2 * per_Ang_to_per_nm\n",
    "Wavelength_nm = spec['WAVELENGTH']/10"
   ]
  },
  {
   "cell_type": "code",
   "execution_count": 10,
   "id": "4f80a3e3-f1b6-4c99-84e6-06553f106934",
   "metadata": {},
   "outputs": [],
   "source": [
    "# plot in new units\n",
    "'''\n",
    "plt.figure(figsize = (12,5))\n",
    "plt.plot(Wavelength_nm,New_flux, color = 'k', label = 'MUSCLES spectra of '+star_name)\n",
    "plt.tick_params(labelsize = 15, width = 2, length = 4, right = True, top = True)\n",
    "plt.xlabel('Wavelength', fontsize = 15); plt.xscale('log')\n",
    "plt.ylabel('Flux Density mW/m'+sup(2)+'/nm)', fontsize = 15); plt.yscale('log')\n",
    "plt.legend(loc = 0, frameon = False, fontsize = 15)\n",
    "''';"
   ]
  },
  {
   "cell_type": "code",
   "execution_count": 11,
   "id": "9a61fd9f-90c2-4565-bf43-7e0263257f2a",
   "metadata": {},
   "outputs": [
    {
     "data": {
      "text/plain": [
       "0"
      ]
     },
     "execution_count": 11,
     "metadata": {},
     "output_type": "execute_result"
    }
   ],
   "source": [
    "#remove MUSCLES files in current directory\n",
    "os.system('rm *muscles*.fits')"
   ]
  },
  {
   "cell_type": "code",
   "execution_count": 37,
   "id": "18c8b69e-49d2-4e3f-a5b2-9fe2289bfd67",
   "metadata": {},
   "outputs": [
    {
     "name": "stdout",
     "output_type": "stream",
     "text": [
      "Total stellar irradiance relative to the Sun: 8.605194006526416e-17\n"
     ]
    }
   ],
   "source": [
    "#find total stellar irradiance from file\n",
    "from scipy.integrate import trapz\n",
    "#get total stellar irradiance at top of atmosphere\n",
    "TSI_spectra = trapz(New_flux,Wavelength_nm)\n",
    "print('Total stellar irradiance relative to the Sun: '+ str(TSI_spectra/1360000))"
   ]
  },
  {
   "cell_type": "code",
   "execution_count": 40,
   "id": "f1734515-6961-4814-aeba-bd257bec0c69",
   "metadata": {},
   "outputs": [
    {
     "name": "stdout",
     "output_type": "stream",
     "text": [
      "Scaled total stellar irradiance relative to the Sun: 1.0\n"
     ]
    }
   ],
   "source": [
    "# scale TSI\n",
    "Scaled_flux_to_Earth = New_flux/(TSI_spectra/1360000)\n",
    "TSI_spectra = trapz(Scaled_flux_to_Earth, Wavelength_nm)\n",
    "print('Scaled total stellar irradiance relative to the Sun: '+ str(TSI_spectra/1360000))"
   ]
  },
  {
   "cell_type": "code",
   "execution_count": 41,
   "id": "9e20e0e7-50d1-4985-9fbb-5a468e210c90",
   "metadata": {},
   "outputs": [
    {
     "data": {
      "application/vnd.jupyter.widget-view+json": {
       "model_id": "3f0299c6e3a1423a94e82f050fcaf3ea",
       "version_major": 2,
       "version_minor": 0
      },
      "text/plain": [
       "Dropdown(description='Select climate model', options=('WACCM', 'CAM', 'ExoCam', 'UM', 'ROCKE-3D', 'CCSM3', 'At…"
      ]
     },
     "metadata": {},
     "output_type": "display_data"
    }
   ],
   "source": [
    "#Select climate model\n",
    "Climate_model_list = ['WACCM','CAM','ExoCam','UM','ROCKE-3D','CCSM3','Atmos','ExoPrime']\n",
    "Climate_model_selection = widgets.Dropdown(options=Climate_model_list,description='Select climate model',disabled=False)\n",
    "display(Climate_model_selection)"
   ]
  },
  {
   "cell_type": "code",
   "execution_count": 42,
   "id": "4161b9de-29bb-4663-adb9-ed61fcb0b08d",
   "metadata": {},
   "outputs": [
    {
     "name": "stdout",
     "output_type": "stream",
     "text": [
      "File already downloaded\n"
     ]
    },
    {
     "data": {
      "text/plain": [
       "<matplotlib.legend.Legend at 0x7f0deb425700>"
      ]
     },
     "execution_count": 42,
     "metadata": {},
     "output_type": "execute_result"
    },
    {
     "data": {
      "image/png": "[encoded data removed]",
      "text/plain": [
       "<Figure size 864x360 with 1 Axes>"
      ]
     },
     "metadata": {
      "needs_background": "light"
     },
     "output_type": "display_data"
    }
   ],
   "source": [
    "#Compare to WACCM standard solar file\n",
    "if (Climate_model_selection.value == 'WACCM' or Climate_model_selection.value == 'CAM'):\n",
    "    #check for file. Download if not in directory\n",
    "    if(os.path.isfile('SolarForcingCMIP6piControl_c160921.nc')): print('File already downloaded')\n",
    "    else: os.system('wget https://svn-ccsm-inputdata.cgd.ucar.edu/trunk/inputdata/atm/cam/solar/SolarForcingCMIP6piControl_c160921.nc --no-check-certificate')\n",
    "    solar_file = 'SolarForcingCMIP6piControl_c160921.nc'#read in file\n",
    "\n",
    "    ds = xr.open_dataset(solar_file)#attach file to dataset\n",
    "    ssi = ds['ssi'].isel(time=0) #define dataset from file\n",
    "    model_flux = ssi.values #flux values\n",
    "    model_wavelength = ssi.wavelength.values #wavelength grid\n",
    "    starlabel = 'Sun' #label for plot\n",
    "    \n",
    "elif(Climate_model_selection.value == 'ExoCAM'):\n",
    "    print('ExoCam spectrum input file unknown')  \n",
    "    \n",
    "elif(Climate_model_selection.value == 'UM'):\n",
    "    print('UM spectrum input file unknown')  \n",
    "    \n",
    "elif(Climate_model_selection.value == 'ROCKE-3D'):\n",
    "    #check for file. Download if not in directory\n",
    "    if(os.path.isfile('sun')): print('File already downloaded')\n",
    "    else: os.system('wget https://portal.nccs.nasa.gov/GISS_modelE/ROCKE-3D/stellar_spectra/sun')\n",
    "    solar_file = 'SolarForcingCMIP6piControl_c160921.nc'#read in file\n",
    "    ROCKE_3D_solar_input = np.genfromtxt('sun', skip_header = 5, skip_footer = 1)\n",
    "    model_flux = ROCKE_3D_solar_input[:,1]\n",
    "    model_wavelength =  ROCKE_3D_solar_input[:,0]*1e9 #wavelength grid\n",
    "    starlabel = 'Sun' #label for plot\n",
    "    \n",
    "elif(Climate_model_selection.value == 'CCSM3'):\n",
    "    print('CCSM3 spectrum input file unknown') \n",
    "    \n",
    "elif(Climate_model_selection.value == 'Atmos'):\n",
    "    if(os.path.isfile('muscles_gj667c.txt')): print('File already downloaded')\n",
    "    else: os.system('wget https://raw.githubusercontent.com/VirtualPlanetaryLaboratory/atmos/master/PHOTOCHEM/DATA/FLUX/muscles_gj667c.txt')\n",
    "    ATMOS_gj667c_input = np.genfromtxt('muscles_gj667c.txt')\n",
    "    model_wavelength = ATMOS_gj667c_input[:,0]/10\n",
    "    model_flux = ATMOS_gj667c_input[:,1]\n",
    "    starlabel = 'GJ 667 C'\n",
    "else:\n",
    "    print('Spectrum input file unknown')\n",
    "    \n",
    "#compare spectra to Sun\n",
    "plt.figure(figsize = (12,5))\n",
    "plt.plot(Wavelength_nm, Scaled_flux_to_Earth, color = 'r', label = 'MUSCLES spectra of '+star_name)\n",
    "plt.plot(model_wavelength, model_flux, color = 'k', label = starlabel)\n",
    "plt.tick_params(labelsize = 15, width = 2, length = 4, right = True, top = True)\n",
    "plt.xlabel('Wavelength [nm]', fontsize = 15); plt.xscale('log')\n",
    "plt.ylabel('Irradiance [W/m]'+sup(-3), fontsize = 15); plt.yscale('log')\n",
    "plt.xscale('log')\n",
    "plt.yscale('log')\n",
    "plt.legend(loc = 0, frameon = False, fontsize = 15)"
   ]
  },
  {
   "cell_type": "code",
   "execution_count": 43,
   "id": "25f9ea19-fbe1-4211-a57c-9ecdf244fc1c",
   "metadata": {},
   "outputs": [
    {
     "name": "stderr",
     "output_type": "stream",
     "text": [
      "/tmp/ipykernel_79/512134744.py:2: DtypeWarning: Columns (50,65,148,153,183,187,206,211,237,242) have mixed types. Specify dtype option on import or set low_memory=False.\n",
      "  NASA_Exo_Archive = pd.read_csv('https://exoplanetarchive.ipac.caltech.edu/TAP/sync?query=select+*+from+ps&format=csv')\n"
     ]
    }
   ],
   "source": [
    "import pandas as pd\n",
    "NASA_Exo_Archive = pd.read_csv('https://exoplanetarchive.ipac.caltech.edu/TAP/sync?query=select+*+from+ps&format=csv')"
   ]
  },
  {
   "cell_type": "code",
   "execution_count": 44,
   "id": "6061232d-68fc-4b28-a8b9-cabb7d22c6ea",
   "metadata": {},
   "outputs": [
    {
     "data": {
      "application/vnd.jupyter.widget-view+json": {
       "model_id": "29749ba8ad644d5fb99a8e73c3de463c",
       "version_major": 2,
       "version_minor": 0
      },
      "text/plain": [
       "Dropdown(description='Find planets', options=('TRAPPIST-1 b', 'TRAPPIST-1 c', 'TRAPPIST-1 g', 'TRAPPIST-1 h', …"
      ]
     },
     "metadata": {},
     "output_type": "display_data"
    }
   ],
   "source": [
    "#Find planets based on host name\n",
    "if (Spectra_name_same_as_host_name == True):\n",
    "    #choose planet\n",
    "    planets = NASA_Exo_Archive.loc[NASA_Exo_Archive['hostname'] == star_name]['pl_name']\n",
    "    Find_planets = widgets.Dropdown(options=planets.drop_duplicates(),description='Find planets',disabled=False)\n",
    "    display(Find_planets)\n",
    "else:\n",
    "    Find_host = widgets.Dropdown(options=(NASA_Exo_Archive['hostname'].drop_duplicates()),description='Find host',disabled=False)\n",
    "    display(Find_host)\n",
    "    \n",
    "    #choose planet\n",
    "    planets = NASA_Exo_Archive.loc[NASA_Exo_Archive['hostname'] == Find_host.value]['pl_name']\n",
    "    Find_planets = widgets.Dropdown(options=planets,description='Find planets',disabled=False)\n",
    "    display(Find_planets)"
   ]
  },
  {
   "cell_type": "code",
   "execution_count": null,
   "id": "89591445-b472-443a-8745-0c8f58f1d08e",
   "metadata": {},
   "outputs": [],
   "source": []
  },
  {
   "cell_type": "code",
   "execution_count": 61,
   "id": "3ef8df23-fb24-4ca6-b884-1ddc02cef5c4",
   "metadata": {},
   "outputs": [],
   "source": [
    "#drop nan rows ofr luminosity and orbital period\n",
    "pl = NASA_Exo_Archive.loc[NASA_Exo_Archive['pl_name'] == Find_planets.value].dropna(subset='st_lum')\n",
    "pl = pl.dropna(subset='pl_orbsmax')"
   ]
  },
  {
   "cell_type": "code",
   "execution_count": 62,
   "id": "f69c4880-6602-4023-86a2-82bca0cf5de3",
   "metadata": {},
   "outputs": [
    {
     "name": "stdout",
     "output_type": "stream",
     "text": [
      "semi-major axis of TRAPPIST-1 h = 0.06189 AU\n"
     ]
    }
   ],
   "source": [
    "#find semi-major axis in AU\n",
    "pl = pl.sort_values(by=['rowupdate'])\n",
    "semi_major_axis = pl['pl_orbsmax'].iloc[-1]\n",
    "print('semi-major axis of '+Find_planets.value+' = '+str(semi_major_axis)+' AU')"
   ]
  },
  {
   "cell_type": "code",
   "execution_count": 63,
   "id": "62e8f3ec-c259-4dc1-8f86-2d200ea0687a",
   "metadata": {},
   "outputs": [
    {
     "name": "stdout",
     "output_type": "stream",
     "text": [
      "Star has 0.0005533501092157366 times luminosity of Sun\n"
     ]
    }
   ],
   "source": [
    "#find solar luminosity relative to Sun\n",
    "stellar_luminosity = 10**pl['st_lum'].iloc[-1]\n",
    "print('Star has '+str(stellar_luminosity)+ ' times luminosity of Sun')"
   ]
  },
  {
   "cell_type": "code",
   "execution_count": 64,
   "id": "fc13e8f3-7027-4ee9-8c37-e15f148c52b2",
   "metadata": {},
   "outputs": [
    {
     "name": "stdout",
     "output_type": "stream",
     "text": [
      "TRAPPIST-1 h recieves 0.14446380006154927 times flux recieved by Earth\n"
     ]
    }
   ],
   "source": [
    "flux_recieved_relative_to_Earth = stellar_luminosity/(semi_major_axis**2)\n",
    "print(Find_planets.value+' recieves '+str(flux_recieved_relative_to_Earth)+ ' times flux recieved by Earth')"
   ]
  },
  {
   "cell_type": "code",
   "execution_count": 65,
   "id": "471db816-32b7-4726-9745-4b27fe40913f",
   "metadata": {},
   "outputs": [],
   "source": [
    "#add in infrared wavelengths if required\n"
   ]
  },
  {
   "cell_type": "code",
   "execution_count": 66,
   "id": "06a878f2-8f0f-4fa2-ab2a-0a134f0ff235",
   "metadata": {},
   "outputs": [],
   "source": [
    "#rebin to wavelength grid\n"
   ]
  },
  {
   "cell_type": "code",
   "execution_count": 67,
   "id": "98431781-4099-4724-a173-3145c12a33a6",
   "metadata": {},
   "outputs": [
    {
     "name": "stdout",
     "output_type": "stream",
     "text": [
      "Scaled total stellar irradiance relative to the Sun: 0.14446380006154927\n"
     ]
    }
   ],
   "source": [
    "# rescale to planet\n",
    "Final_scaled_flux = Scaled_flux_to_Earth * flux_recieved_relative_to_Earth\n",
    "TSI_spectra = trapz(Final_scaled_flux, Wavelength_nm)\n",
    "print('Scaled total stellar irradiance relative to the Sun: '+ str(TSI_spectra/1360000))\n"
   ]
  },
  {
   "cell_type": "code",
   "execution_count": 68,
   "id": "cf099d19-38da-4560-941b-a342e2189f30",
   "metadata": {},
   "outputs": [
    {
     "data": {
      "text/plain": [
       "<matplotlib.legend.Legend at 0x7f0deb479580>"
      ]
     },
     "execution_count": 68,
     "metadata": {},
     "output_type": "execute_result"
    },
    {
     "data": {
      "image/png": "[encoded data removed]",
      "text/plain": [
       "<Figure size 864x360 with 1 Axes>"
      ]
     },
     "metadata": {
      "needs_background": "light"
     },
     "output_type": "display_data"
    }
   ],
   "source": [
    "#final spectra compared to Sun\n",
    "plt.figure(figsize = (12,5))\n",
    "plt.plot(Wavelength_nm, Final_scaled_flux, color = 'r', label = 'Scaled MUSCLES spectra of\\n'+star_name+ ' at ' + Find_planets.value+'\\n('+str(round(TSI_spectra/1360000,3))+' '+r'$F_\\oplus$'+')')\n",
    "plt.plot(model_wavelength,model_flux, color = 'k', label = 'Sun')\n",
    "plt.tick_params(labelsize = 15, width = 2, length = 4, right = True, top = True)\n",
    "plt.xlabel('Wavelength [nm]', fontsize = 15); plt.xscale('log')\n",
    "plt.ylabel('Flux Density mW/m'+sup(2)+'/nm)', fontsize = 15); plt.yscale('log')\n",
    "plt.legend(loc = 0, frameon = False, fontsize = 15)"
   ]
  },
  {
   "cell_type": "code",
   "execution_count": null,
   "id": "b97b8658-c314-49ba-9c7e-197f7c821c19",
   "metadata": {},
   "outputs": [],
   "source": []
  },
  {
   "cell_type": "code",
   "execution_count": null,
   "id": "a01874c9-8c4e-4145-b2f2-586ab0d95dd1",
   "metadata": {},
   "outputs": [],
   "source": [
    "\n"
   ]
  },
  {
   "cell_type": "code",
   "execution_count": null,
   "id": "2b2c68ee-9192-4389-87ce-6f31f0c05742",
   "metadata": {},
   "outputs": [],
   "source": []
  },
  {
   "cell_type": "code",
   "execution_count": null,
   "id": "94a848be-c21b-46a3-964e-9b4d94d9c25a",
   "metadata": {},
   "outputs": [],
   "source": [
    "#extra information about planet\n",
    "#orbital period\n",
    "period = pl['pl_orbper'].iloc[-1]\n",
    "print(period)"
   ]
  },
  {
   "cell_type": "code",
   "execution_count": null,
   "id": "01b9c0ac-abd4-4aab-98d2-d83988e466d1",
   "metadata": {},
   "outputs": [],
   "source": [
    "#orbital radius\n",
    "radius = pl['pl_rade'].iloc[-1]\n",
    "print(radius)"
   ]
  },
  {
   "cell_type": "code",
   "execution_count": null,
   "id": "2a4a4ed4-92c9-445e-8dda-744b96ae07e6",
   "metadata": {},
   "outputs": [],
   "source": []
  },
  {
   "cell_type": "code",
   "execution_count": null,
   "id": "6225c2ef-952b-45ea-a7b0-d50f69b4d4ff",
   "metadata": {},
   "outputs": [],
   "source": []
  },
  {
   "cell_type": "code",
   "execution_count": null,
   "id": "9d914cad-f468-4202-89fb-0af0afd2d927",
   "metadata": {},
   "outputs": [],
   "source": []
  }
 ],
 "metadata": {
  "kernelspec": {
   "display_name": "Python 3 (ipykernel)",
   "language": "python",
   "name": "python3"
  },
  "language_info": {
   "codemirror_mode": {
    "name": "ipython",
    "version": 3
   },
   "file_extension": ".py",
   "mimetype": "text/x-python",
   "name": "python",
   "nbconvert_exporter": "python",
   "pygments_lexer": "ipython3",
   "version": "3.9.12"
  }
 },
 "nbformat": 4,
 "nbformat_minor": 5
}
