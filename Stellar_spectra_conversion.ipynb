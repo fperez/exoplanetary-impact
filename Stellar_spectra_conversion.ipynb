{
 "cells": [
  {
   "cell_type": "code",
   "execution_count": 1,
   "id": "1455bf51-33d9-4737-a6e7-dc53656158e4",
   "metadata": {},
   "outputs": [],
   "source": [
    "'''\n",
    "created on June 6th 2022 @ 3rd Eddy Cross Disciplinary Symposium, Vail, CO, USA\n",
    "Code based on original idea by Dan Marsh (NCAR, University of Leeds)\n",
    "Authors:\n",
    "Gregory Cooke (University of Leeds, pygjc@leeds.ac.uk)\n",
    "Allison Youngblood (NASA Goddard)\n",
    "'''\n",
    "\n",
    "'''\n",
    "USER GUIDE\n",
    "Code to read in files from the MUSCLES database\n",
    "and scale them to be used in various atmospheric models\n",
    "for different planets in those stellar systems\n",
    "\n",
    "Run each cell until drop down menus appear\n",
    "Select your desired options from dropdown menus\n",
    "'''\n",
    "\n",
    "'''\n",
    "To do list\n",
    "wget NASA exoplanet archive\n",
    "rebin spectra\n",
    "save out spectra file\n",
    "add different climate model wavelength grids (only WACCM so far)\n",
    "comment code better\n",
    "'''\n",
    "\n",
    "#imports\n",
    "import matplotlib.pyplot as plt\n",
    "import numpy as np\n",
    "import xarray as xr\n",
    "from ipywidgets import interactive\n",
    "import matplotlib.gridspec as gridspec\n",
    "from astropy.io import fits"
   ]
  },
  {
   "cell_type": "code",
   "execution_count": 2,
   "id": "34a5978e-4483-43e7-8ed2-1e377b3b4e98",
   "metadata": {},
   "outputs": [],
   "source": [
    "# return subscript number or text as a string\n",
    "def sub(Input):\n",
    "    return r'$_{'+str(Input)+'}$'\n",
    "\n",
    "# return superscript number or text as a string\n",
    "def sup(Input):\n",
    "    return r'$^{'+str(Input)+'}$'"
   ]
  },
  {
   "cell_type": "code",
   "execution_count": 3,
   "id": "df3a3d17-6322-48b9-8ffa-fbca091827ef",
   "metadata": {},
   "outputs": [
    {
     "data": {
      "application/vnd.jupyter.widget-view+json": {
       "model_id": "890ca8e78241407f98ab620e0bad0c69",
       "version_major": 2,
       "version_minor": 0
      },
      "text/plain": [
       "Dropdown(description='MUSCLES Files:', options={'GJ 1132': 'https://archive.stsci.edu/missions/hlsp/muscles/gj…"
      ]
     },
     "metadata": {},
     "output_type": "display_data"
    }
   ],
   "source": [
    "'''\n",
    "program options begin here\n",
    "List of MUSCLES database below\n",
    "'''\n",
    "\n",
    "Stellar_names = {'GJ 1132':'https://archive.stsci.edu/missions/hlsp/muscles/gj1132/hlsp_muscles_multi_multi_gj1132_broadband_v23_adapt-const-res-sed.fits',\n",
    "                 'GJ 15A':'https://archive.stsci.edu/missions/hlsp/muscles/gj15a/hlsp_muscles_multi_multi_gj15a_broadband_v23_adapt-const-res-sed.fits',\n",
    "                 'GJ 1214':'https://archive.stsci.edu/missions/hlsp/muscles/gj1214/hlsp_muscles_multi_multi_gj1214_broadband_v22_adapt-const-res-sed.fits',\n",
    "                 'GJ 163':'https://archive.stsci.edu/missions/hlsp/muscles/gj163/hlsp_muscles_multi_multi_gj163_broadband_v23_adapt-const-res-sed.fits',\n",
    "                 'GJ 176':'https://archive.stsci.edu/missions/hlsp/muscles/gj176/hlsp_muscles_multi_multi_gj176_broadband_v22_adapt-const-res-sed.fits',\n",
    "                 'GJ 436':'https://archive.stsci.edu/missions/hlsp/muscles/gj436/hlsp_muscles_multi_multi_gj436_broadband_v22_adapt-const-res-sed.fits',\n",
    "                 'GJ 581':'https://archive.stsci.edu/missions/hlsp/muscles/gj581/hlsp_muscles_multi_multi_gj581_broadband_v22_adapt-const-res-sed.fits',\n",
    "                 'GJ 649':'https://archive.stsci.edu/missions/hlsp/muscles/gj649/hlsp_muscles_multi_multi_gj649_broadband_v23_adapt-const-res-sed.fits',\n",
    "                 'GJ 667 C':'https://archive.stsci.edu/missions/hlsp/muscles/gj667c/hlsp_muscles_multi_multi_gj667c_broadband_v22_adapt-const-res-sed.fits',\n",
    "                 'GJ 674':'https://archive.stsci.edu/missions/hlsp/muscles/gj674/hlsp_muscles_multi_multi_gj674_broadband_v23_adapt-const-res-sed.fits',\n",
    "                 'GJ 676 A':'https://archive.stsci.edu/missions/hlsp/muscles/gj676a/hlsp_muscles_multi_multi_gj676a_broadband_v23_adapt-const-res-sed.fits',\n",
    "                 'GJ 699':'https://archive.stsci.edu/missions/hlsp/muscles/gj699/hlsp_muscles_multi_multi_gj699_broadband_v23_adapt-const-res-sed.fits',\n",
    "                 'GJ 729':'https://archive.stsci.edu/missions/hlsp/muscles/gj729/hlsp_muscles_multi_multi_gj729_broadband_v23_adapt-const-res-sed.fits',\n",
    "                 'GJ 832':'https://archive.stsci.edu/missions/hlsp/muscles/gj832/hlsp_muscles_multi_multi_gj832_broadband_v22_adapt-const-res-sed.fits',\n",
    "                 'GJ 849':'https://archive.stsci.edu/missions/hlsp/muscles/gj849/hlsp_muscles_multi_multi_gj849_broadband_v23_adapt-const-res-sed.fits',\n",
    "                 'GJ 876':'https://archive.stsci.edu/missions/hlsp/muscles/gj876/hlsp_muscles_multi_multi_gj876_broadband_v22_adapt-const-res-sed.fits',\n",
    "                 'HD40307':'https://archive.stsci.edu/missions/hlsp/muscles/hd40307/hlsp_muscles_multi_multi_hd40307_broadband_v22_adapt-const-res-sed.fits',\n",
    "                 'HD85512':'https://archive.stsci.edu/missions/hlsp/muscles/hd85512/hlsp_muscles_multi_multi_hd85512_broadband_v22_adapt-const-res-sed.fits',\n",
    "                 'HD97658':'https://archive.stsci.edu/missions/hlsp/muscles/hd97658/hlsp_muscles_multi_multi_hd97658_broadband_v22_adapt-const-res-sed.fits',\n",
    "                 'L-980-5':'https://archive.stsci.edu/missions/hlsp/muscles/l-980-5/hlsp_muscles_multi_multi_l-980-5_broadband_v23_adapt-const-res-sed.fits',\n",
    "                 'LHS-2686':'https://archive.stsci.edu/missions/hlsp/muscles/lhs-2686/hlsp_muscles_multi_multi_lhs-2686_broadband_v23_adapt-const-res-sed.fits',\n",
    "                 'TRAPPIST-1':'https://archive.stsci.edu/missions/hlsp/muscles/trappist-1/hlsp_muscles_multi_multi_trappist-1_broadband_v23_adapt-const-res-sed.fits',\n",
    "                 'V-EPS-ERI':'https://archive.stsci.edu/missions/hlsp/muscles/v-eps-eri/hlsp_muscles_multi_multi_v-eps-eri_broadband_v22_adapt-const-res-sed.fits',\n",
    "                 'GJ551':'https://archive.stsci.edu/missions/hlsp/muscles/gj551/hlsp_muscles_multi_multi_gj551_broadband_v22_adapt-const-res-sed.fits'}\n",
    "\n",
    "#get a drop down menu\n",
    "import ipywidgets as widgets\n",
    "#select directories for MUSCLES files\n",
    "MUSCLES_files = widgets.Dropdown(options=(Stellar_names),description='MUSCLES Files:',disabled=False)\n",
    "display(MUSCLES_files)"
   ]
  },
  {
   "cell_type": "code",
   "execution_count": 38,
   "id": "6507a256-e63c-4b92-bd47-3233156f339d",
   "metadata": {},
   "outputs": [],
   "source": [
    "'''\n",
    "set Spectra_name_same_as_host_name = False if looking at exoplanets around\n",
    "a different star to the ones in the MUSCLES database\n",
    "i.e you want spectra for an M8 star but the closest spectra availiable is TRAPPIST-1\n",
    "otherwise in this example you will only be able to select TRAPPIST-1 planets \n",
    "if Spectra_name_same_as_host_name = True\n",
    "'''\n",
    "Spectra_name_same_as_host_name = True"
   ]
  },
  {
   "cell_type": "code",
   "execution_count": 39,
   "id": "de2d5d04-18d5-4fc8-8071-d5e6f29131ac",
   "metadata": {},
   "outputs": [],
   "source": [
    "#get star name\n",
    "star_name = [k for k, v in Stellar_names.items() if v == MUSCLES_files.value][0]\n"
   ]
  },
  {
   "cell_type": "code",
   "execution_count": 40,
   "id": "a6448e1c-09c3-4d11-ba61-988e95106699",
   "metadata": {},
   "outputs": [
    {
     "name": "stderr",
     "output_type": "stream",
     "text": [
      "--2022-06-08 15:04:10--  https://archive.stsci.edu/missions/hlsp/muscles/gj667c/hlsp_muscles_multi_multi_gj667c_broadband_v22_adapt-const-res-sed.fits\n",
      "Resolving archive.stsci.edu (archive.stsci.edu)... 130.167.201.60\n",
      "Connecting to archive.stsci.edu (archive.stsci.edu)|130.167.201.60|:443... connected.\n",
      "HTTP request sent, awaiting response... 200 OK\n",
      "Length: 5186880 (4.9M) [allicashion/octet-stream]\n",
      "Saving to: ‘hlsp_muscles_multi_multi_gj667c_broadband_v22_adapt-const-res-sed.fits’\n",
      "\n",
      "     0K .......... .......... .......... .......... ..........  0%  613K 8s\n",
      "    50K .......... .......... .......... .......... ..........  1% 1.18M 6s\n",
      "   100K .......... .......... .......... .......... ..........  2% 57.9M 4s\n",
      "   150K .......... .......... .......... .......... ..........  3% 1.21M 4s\n",
      "   200K .......... .......... .......... .......... ..........  4% 69.4M 3s\n",
      "   250K .......... .......... .......... .......... ..........  5% 20.4M 3s\n",
      "   300K .......... .......... .......... .......... ..........  6% 1.28M 3s\n",
      "   350K .......... .......... .......... .......... ..........  7% 45.8M 2s\n",
      "   400K .......... .......... .......... .......... ..........  8% 66.7M 2s\n",
      "   450K .......... .......... .......... .......... ..........  9%  166M 2s\n",
      "   500K .......... .......... .......... .......... .......... 10% 76.5M 2s\n",
      "   550K .......... .......... .......... .......... .......... 11% 40.7M 2s\n",
      "   600K .......... .......... .......... .......... .......... 12%  150M 1s\n",
      "   650K .......... .......... .......... .......... .......... 13% 1.31M 2s\n",
      "   700K .......... .......... .......... .......... .......... 14% 33.0M 1s\n",
      "   750K .......... .......... .......... .......... .......... 15%  198M 1s\n",
      "   800K .......... .......... .......... .......... .......... 16%  159M 1s\n",
      "   850K .......... .......... .......... .......... .......... 17% 46.9M 1s\n",
      "   900K .......... .......... .......... .......... .......... 18%  271M 1s\n",
      "   950K .......... .......... .......... .......... .......... 19% 66.9M 1s\n",
      "  1000K .......... .......... .......... .......... .......... 20%  129M 1s\n",
      "  1050K .......... .......... .......... .......... .......... 21%  179M 1s\n",
      "  1100K .......... .......... .......... .......... .......... 22% 79.2M 1s\n",
      "  1150K .......... .......... .......... .......... .......... 23%  152M 1s\n",
      "  1200K .......... .......... .......... .......... .......... 24%  117M 1s\n",
      "  1250K .......... .......... .......... .......... .......... 25%  147M 1s\n",
      "  1300K .......... .......... .......... .......... .......... 26%  178M 1s\n",
      "  1350K .......... .......... .......... .......... .......... 27% 1.39M 1s\n",
      "  1400K .......... .......... .......... .......... .......... 28% 63.3M 1s\n",
      "  1450K .......... .......... .......... .......... .......... 29% 35.1M 1s\n",
      "  1500K .......... .......... .......... .......... .......... 30%  221M 1s\n",
      "  1550K .......... .......... .......... .......... .......... 31%  146M 1s\n",
      "  1600K .......... .......... .......... .......... .......... 32%  136M 1s\n",
      "  1650K .......... .......... .......... .......... .......... 33%  159M 1s\n",
      "  1700K .......... .......... .......... .......... .......... 34%  182M 1s\n",
      "  1750K .......... .......... .......... .......... .......... 35% 31.4M 1s\n",
      "  1800K .......... .......... .......... .......... .......... 36%  164M 1s\n",
      "  1850K .......... .......... .......... .......... .......... 37%  120M 0s\n",
      "  1900K .......... .......... .......... .......... .......... 38%  138M 0s\n",
      "  1950K .......... .......... .......... .......... .......... 39%  165M 0s\n",
      "  2000K .......... .......... .......... .......... .......... 40%  134M 0s\n",
      "  2050K .......... .......... .......... .......... .......... 41%  141M 0s\n",
      "  2100K .......... .......... .......... .......... .......... 42%  169M 0s\n",
      "  2150K .......... .......... .......... .......... .......... 43%  152M 0s\n",
      "  2200K .......... .......... .......... .......... .......... 44% 36.6M 0s\n",
      "  2250K .......... .......... .......... .......... .......... 45%  149M 0s\n",
      "  2300K .......... .......... .......... .......... .......... 46%  161M 0s\n",
      "  2350K .......... .......... .......... .......... .......... 47%  112M 0s\n",
      "  2400K .......... .......... .......... .......... .......... 48% 88.6M 0s\n",
      "  2450K .......... .......... .......... .......... .......... 49%  171M 0s\n",
      "  2500K .......... .......... .......... .......... .......... 50%  121M 0s\n",
      "  2550K .......... .......... .......... .......... .......... 51%  134M 0s\n",
      "  2600K .......... .......... .......... .......... .......... 52%  140M 0s\n",
      "  2650K .......... .......... .......... .......... .......... 53%  154M 0s\n",
      "  2700K .......... .......... .......... .......... .......... 54%  147M 0s\n",
      "  2750K .......... .......... .......... .......... .......... 55%  160M 0s\n",
      "  2800K .......... .......... .......... .......... .......... 56% 1.69M 0s\n",
      "  2850K .......... .......... .......... .......... .......... 57% 65.9M 0s\n",
      "  2900K .......... .......... .......... .......... .......... 58% 35.5M 0s\n",
      "  2950K .......... .......... .......... .......... .......... 59%  128M 0s\n",
      "  3000K .......... .......... .......... .......... .......... 60%  157M 0s\n",
      "  3050K .......... .......... .......... .......... .......... 61%  104M 0s\n",
      "  3100K .......... .......... .......... .......... .......... 62%  155M 0s\n",
      "  3150K .......... .......... .......... .......... .......... 63%  129M 0s\n",
      "  3200K .......... .......... .......... .......... .......... 64% 95.7M 0s\n",
      "  3250K .......... .......... .......... .......... .......... 65%  134M 0s\n",
      "  3300K .......... .......... .......... .......... .......... 66%  156M 0s\n",
      "  3350K .......... .......... .......... .......... .......... 67%  124M 0s\n",
      "  3400K .......... .......... .......... .......... .......... 68%  143M 0s\n",
      "  3450K .......... .......... .......... .......... .......... 69%  144M 0s\n",
      "  3500K .......... .......... .......... .......... .......... 70%  150M 0s\n",
      "  3550K .......... .......... .......... .......... .......... 71%  158M 0s\n",
      "  3600K .......... .......... .......... .......... .......... 72%  127M 0s\n",
      "  3650K .......... .......... .......... .......... .......... 73% 84.4M 0s\n",
      "  3700K .......... .......... .......... .......... .......... 74%  174M 0s\n",
      "  3750K .......... .......... .......... .......... .......... 75% 77.8M 0s\n",
      "  3800K .......... .......... .......... .......... .......... 76% 79.6M 0s\n",
      "  3850K .......... .......... .......... .......... .......... 76%  217M 0s\n",
      "  3900K .......... .......... .......... .......... .......... 77%  126M 0s\n",
      "  3950K .......... .......... .......... .......... .......... 78%  151M 0s\n",
      "  4000K .......... .......... .......... .......... .......... 79%  169M 0s\n",
      "  4050K .......... .......... .......... .......... .......... 80%  133M 0s\n",
      "  4100K .......... .......... .......... .......... .......... 81%  138M 0s\n",
      "  4150K .......... .......... .......... .......... .......... 82%  163M 0s\n",
      "  4200K .......... .......... .......... .......... .......... 83%  118M 0s\n",
      "  4250K .......... .......... .......... .......... .......... 84%  180M 0s\n",
      "  4300K .......... .......... .......... .......... .......... 85%  136M 0s\n",
      "  4350K .......... .......... .......... .......... .......... 86%  145M 0s\n",
      "  4400K .......... .......... .......... .......... .......... 87%  149M 0s\n",
      "  4450K .......... .......... .......... .......... .......... 88%  209M 0s\n",
      "  4500K .......... .......... .......... .......... .......... 89% 71.0M 0s\n",
      "  4550K .......... .......... .......... .......... .......... 90%  226M 0s\n",
      "  4600K .......... .......... .......... .......... .......... 91%  110M 0s\n",
      "  4650K .......... .......... .......... .......... .......... 92%  179M 0s\n",
      "  4700K .......... .......... .......... .......... .......... 93%  140M 0s\n",
      "  4750K .......... .......... .......... .......... .......... 94%  196M 0s\n",
      "  4800K .......... .......... .......... .......... .......... 95%  114M 0s\n",
      "  4850K .......... .......... .......... .......... .......... 96%  168M 0s\n",
      "  4900K .......... .......... .......... .......... .......... 97%  136M 0s\n",
      "  4950K .......... .......... .......... .......... .......... 98%  173M 0s\n",
      "  5000K .......... .......... .......... .......... .......... 99%  143M 0s\n",
      "  5050K .......... .....                                      100%  210M=0.3s\n",
      "\n",
      "2022-06-08 15:04:11 (14.2 MB/s) - ‘hlsp_muscles_multi_multi_gj667c_broadband_v22_adapt-const-res-sed.fits’ saved [5186880/5186880]\n",
      "\n"
     ]
    }
   ],
   "source": [
    "# Import MUSCLES spectra\n",
    "import os\n",
    "if(os.path.isfile(MUSCLES_files.value)): print('File already downloaded')\n",
    "else:os.system('wget '+ MUSCLES_files.value)"
   ]
  },
  {
   "cell_type": "code",
   "execution_count": 7,
   "id": "f48bbecf-13f8-4da7-804e-29ebd95ecd1d",
   "metadata": {},
   "outputs": [
    {
     "data": {
      "text/plain": [
       "<matplotlib.legend.Legend at 0x7ff0026ebd30>"
      ]
     },
     "execution_count": 7,
     "metadata": {},
     "output_type": "execute_result"
    },
    {
     "data": {
      "image/png": "[encoded data removed]",
      "text/plain": [
       "<Figure size 864x360 with 1 Axes>"
      ]
     },
     "metadata": {
      "needs_background": "light"
     },
     "output_type": "display_data"
    }
   ],
   "source": [
    "spec = fits.getdata(MUSCLES_files.value,1)\n",
    "plt.figure(figsize = (12,5))\n",
    "plt.plot(spec['WAVELENGTH'],spec['FLUX'], color = 'k', label = 'MUSCLES spectra of '+star_name)\n",
    "plt.tick_params(labelsize = 15, width = 2, length = 4, right = True, top = True)\n",
    "plt.xlabel('Wavelength', fontsize = 15); plt.xscale('log')\n",
    "plt.ylabel('Flux Density (erg/cm2/s/Ang)', fontsize = 15); plt.yscale('log')\n",
    "plt.legend(loc = 0, frameon = False, fontsize = 15)"
   ]
  },
  {
   "cell_type": "code",
   "execution_count": 8,
   "id": "63f9a9e1-eadd-4905-8011-068aaa5f0a8a",
   "metadata": {},
   "outputs": [],
   "source": [
    "#convert to mW/m2/nm\n",
    "per_cm2_to_per_m2 = 100**2\n",
    "erg_per_s_to_mW = 1e-4\n",
    "per_Ang_to_per_nm = 10\n",
    "New_flux = spec['FLUX'] * erg_per_s_to_mW * per_cm2_to_per_m2 * per_Ang_to_per_nm\n",
    "Wavelength_nm = spec['WAVELENGTH']/10"
   ]
  },
  {
   "cell_type": "code",
   "execution_count": 9,
   "id": "4f80a3e3-f1b6-4c99-84e6-06553f106934",
   "metadata": {},
   "outputs": [
    {
     "data": {
      "text/plain": [
       "\"\\nplt.figure(figsize = (12,5))\\nplt.plot(Wavelength_nm,New_flux, color = 'k', label = 'MUSCLES spectra of '+star_name)\\nplt.tick_params(labelsize = 15, width = 2, length = 4, right = True, top = True)\\nplt.xlabel('Wavelength', fontsize = 15); plt.xscale('log')\\nplt.ylabel('Flux Density mW/m'+sup(2)+'/nm)', fontsize = 15); plt.yscale('log')\\nplt.legend(loc = 0, frameon = False, fontsize = 15)\\n\""
      ]
     },
     "execution_count": 9,
     "metadata": {},
     "output_type": "execute_result"
    }
   ],
   "source": [
    "# plot in new units\n",
    "'''\n",
    "plt.figure(figsize = (12,5))\n",
    "plt.plot(Wavelength_nm,New_flux, color = 'k', label = 'MUSCLES spectra of '+star_name)\n",
    "plt.tick_params(labelsize = 15, width = 2, length = 4, right = True, top = True)\n",
    "plt.xlabel('Wavelength', fontsize = 15); plt.xscale('log')\n",
    "plt.ylabel('Flux Density mW/m'+sup(2)+'/nm)', fontsize = 15); plt.yscale('log')\n",
    "plt.legend(loc = 0, frameon = False, fontsize = 15)\n",
    "'''"
   ]
  },
  {
   "cell_type": "code",
   "execution_count": 10,
   "id": "9a61fd9f-90c2-4565-bf43-7e0263257f2a",
   "metadata": {},
   "outputs": [
    {
     "data": {
      "text/plain": [
       "0"
      ]
     },
     "execution_count": 10,
     "metadata": {},
     "output_type": "execute_result"
    }
   ],
   "source": [
    "#remove MUSCLES files in current directory\n",
    "os.system('rm *muscles*.fits')"
   ]
  },
  {
   "cell_type": "code",
   "execution_count": 11,
   "id": "18c8b69e-49d2-4e3f-a5b2-9fe2289bfd67",
   "metadata": {},
   "outputs": [
    {
     "name": "stdout",
     "output_type": "stream",
     "text": [
      "Total stellar irradiance relative to the Sun: 6.949514515971132e-16\n"
     ]
    }
   ],
   "source": [
    "#find total stellar irradiance from file\n",
    "from scipy.integrate import trapz\n",
    "#get total stellar irradiance at top of atmosphere\n",
    "TSI_spectra = trapz(New_flux,Wavelength_nm)\n",
    "print('Total stellar irradiance relative to the Sun: '+ str(TSI_spectra/1360000))"
   ]
  },
  {
   "cell_type": "code",
   "execution_count": 12,
   "id": "f1734515-6961-4814-aeba-bd257bec0c69",
   "metadata": {},
   "outputs": [
    {
     "name": "stdout",
     "output_type": "stream",
     "text": [
      "Scaled total stellar irradiance relative to the Sun: 1.0\n"
     ]
    }
   ],
   "source": [
    "# scale TSI\n",
    "Scaled_flux_to_Earth = New_flux/(TSI_spectra/1360000)\n",
    "TSI_spectra = trapz(Scaled_flux_to_Earth, Wavelength_nm)\n",
    "print('Scaled total stellar irradiance relative to the Sun: '+ str(TSI_spectra/1360000))"
   ]
  },
  {
   "cell_type": "code",
   "execution_count": 13,
   "id": "9e20e0e7-50d1-4985-9fbb-5a468e210c90",
   "metadata": {},
   "outputs": [
    {
     "data": {
      "application/vnd.jupyter.widget-view+json": {
       "model_id": "3621f710293c4feda38bbc92c174ccbb",
       "version_major": 2,
       "version_minor": 0
      },
      "text/plain": [
       "Dropdown(description='Select climate model', options=('WACCM', 'CAM', 'ExoCam', 'UM', 'ROCKE-3D', 'CCSM3', 'At…"
      ]
     },
     "metadata": {},
     "output_type": "display_data"
    }
   ],
   "source": [
    "#Select climate model\n",
    "Climate_model_list = ['WACCM','CAM','ExoCam','UM','ROCKE-3D','CCSM3','Atmos','ExoPrime']\n",
    "Climate_model_selection = widgets.Dropdown(options=Climate_model_list,description='Select climate model',disabled=False)\n",
    "display(Climate_model_selection)"
   ]
  },
  {
   "cell_type": "code",
   "execution_count": 61,
   "id": "4161b9de-29bb-4663-adb9-ed61fcb0b08d",
   "metadata": {},
   "outputs": [
    {
     "name": "stderr",
     "output_type": "stream",
     "text": [
      "--2022-06-08 15:40:42--  https://raw.githubusercontent.com/VirtualPlanetaryLaboratory/atmos/master/PHOTOCHEM/DATA/FLUX/muscles_gj667c.txt\n",
      "Resolving raw.githubusercontent.com (raw.githubusercontent.com)... 185.199.111.133, 185.199.110.133, 185.199.109.133, ...\n",
      "Connecting to raw.githubusercontent.com (raw.githubusercontent.com)|185.199.111.133|:443... connected.\n",
      "HTTP request sent, awaiting response... 200 OK\n",
      "Length: 882414 (862K) [text/plain]\n",
      "Saving to: ‘muscles_gj667c.txt’\n",
      "\n",
      "     0K .......... .......... .......... .......... ..........  5% 4.18M 0s\n",
      "    50K .......... .......... .......... .......... .......... 11% 5.19M 0s\n",
      "   100K .......... .......... .......... .......... .......... 17% 23.9M 0s\n",
      "   150K .......... .......... .......... .......... .......... 23% 6.41M 0s\n",
      "   200K .......... .......... .......... .......... .......... 29% 64.2M 0s\n",
      "   250K .......... .......... .......... .......... .......... 34% 25.2M 0s\n",
      "   300K .......... .......... .......... .......... .......... 40% 57.7M 0s\n",
      "   350K .......... .......... .......... .......... .......... 46% 11.2M 0s\n",
      "   400K .......... .......... .......... .......... .......... 52% 20.4M 0s\n",
      "   450K .......... .......... .......... .......... .......... 58% 60.4M 0s\n",
      "   500K .......... .......... .......... .......... .......... 63% 56.3M 0s\n",
      "   550K .......... .......... .......... .......... .......... 69% 46.3M 0s\n",
      "   600K .......... .......... .......... .......... .......... 75%  241M 0s\n",
      "   650K .......... .......... .......... .......... .......... 81% 79.1M 0s\n",
      "   700K .......... .......... .......... .......... .......... 87% 18.3M 0s\n",
      "   750K .......... .......... .......... .......... .......... 92%  128M 0s\n",
      "   800K .......... .......... .......... .......... .......... 98% 16.9M 0s\n",
      "   850K .......... .                                          100%  157M=0.05s\n",
      "\n",
      "2022-06-08 15:40:42 (16.6 MB/s) - ‘muscles_gj667c.txt’ saved [882414/882414]\n",
      "\n"
     ]
    },
    {
     "data": {
      "text/plain": [
       "<matplotlib.legend.Legend at 0x7fefec184730>"
      ]
     },
     "execution_count": 61,
     "metadata": {},
     "output_type": "execute_result"
    },
    {
     "data": {
      "image/png": "[encoded data removed]",
      "text/plain": [
       "<Figure size 864x360 with 1 Axes>"
      ]
     },
     "metadata": {
      "needs_background": "light"
     },
     "output_type": "display_data"
    }
   ],
   "source": [
    "#Compare to WACCM standard solar file\n",
    "if (Climate_model_selection.value == 'WACCM' or Climate_model_selection.value == 'CAM'):\n",
    "    #check for file. Download if not in directory\n",
    "    if(os.path.isfile('SolarForcingCMIP6piControl_c160921.nc')): print('File already downloaded')\n",
    "    else: os.system('wget https://svn-ccsm-inputdata.cgd.ucar.edu/trunk/inputdata/atm/cam/solar/SolarForcingCMIP6piControl_c160921.nc --no-check-certificate')\n",
    "    solar_file = 'SolarForcingCMIP6piControl_c160921.nc'#read in file\n",
    "\n",
    "    ds = xr.open_dataset(solar_file)#attach file to dataset\n",
    "    ssi = ds['ssi'].isel(time=0) #define dataset from file\n",
    "    model_flux = ssi.values #flux values\n",
    "    model_wavelength = ssi.wavelength.values #wavelength grid\n",
    "    starlabel = 'Sun' #label for plot\n",
    "    \n",
    "elif(Climate_model_selection.value == 'ExoCAM'):\n",
    "    print('ExoCam spectrum input file unknown')  \n",
    "    \n",
    "elif(Climate_model_selection.value == 'UM'):\n",
    "    print('UM spectrum input file unknown')  \n",
    "    \n",
    "elif(Climate_model_selection.value == 'ROCKE-3D'):\n",
    "    #check for file. Download if not in directory\n",
    "    if(os.path.isfile('sun')): print('File already downloaded')\n",
    "    else: os.system('wget https://portal.nccs.nasa.gov/GISS_modelE/ROCKE-3D/stellar_spectra/sun')\n",
    "    solar_file = 'SolarForcingCMIP6piControl_c160921.nc'#read in file\n",
    "    ROCKE_3D_solar_input = np.genfromtxt('sun', skip_header = 5, skip_footer = 1)\n",
    "    model_flux = ROCKE_3D_solar_input[:,1]\n",
    "    model_wavelength =  ROCKE_3D_solar_input[:,0]*1e9 #wavelength grid\n",
    "    starlabel = 'Sun' #label for plot\n",
    "    \n",
    "elif(Climate_model_selection.value == 'CCSM3'):\n",
    "    print('CCSM3 spectrum input file unknown') \n",
    "    \n",
    "elif(Climate_model_selection.value == 'Atmos'):\n",
    "    if(os.path.isfile('muscles_gj667c.txt')): print('File already downloaded')\n",
    "    else: os.system('wget https://raw.githubusercontent.com/VirtualPlanetaryLaboratory/atmos/master/PHOTOCHEM/DATA/FLUX/muscles_gj667c.txt')\n",
    "    ATMOS_gj667c_input = np.genfromtxt('muscles_gj667c.txt')\n",
    "    model_wavelength = ATMOS_gj667c_input[:,0]/10\n",
    "    model_flux = ATMOS_gj667c_input[:,1]\n",
    "    starlabel = 'GJ 667 C'\n",
    "else:\n",
    "    print('Spectrum input file unknown')\n",
    "    \n",
    "#compare spectra to Sun\n",
    "plt.figure(figsize = (12,5))\n",
    "plt.plot(Wavelength_nm, Scaled_flux_to_Earth, color = 'r', label = 'MUSCLES spectra of '+star_name)\n",
    "plt.plot(model_wavelength, model_flux, color = 'k', label = starlabel)\n",
    "plt.tick_params(labelsize = 15, width = 2, length = 4, right = True, top = True)\n",
    "plt.xlabel('Wavelength [nm]', fontsize = 15); plt.xscale('log')\n",
    "plt.ylabel('Irradiance [W/m]'+sup(-3), fontsize = 15); plt.yscale('log')\n",
    "plt.xscale('log')\n",
    "plt.yscale('log')\n",
    "plt.legend(loc = 0, frameon = False, fontsize = 15)"
   ]
  },
  {
   "cell_type": "code",
   "execution_count": 34,
   "id": "25f9ea19-fbe1-4211-a57c-9ecdf244fc1c",
   "metadata": {},
   "outputs": [
    {
     "name": "stderr",
     "output_type": "stream",
     "text": [
      "/tmp/ipykernel_78/3484926177.py:3: DtypeWarning: Columns (50,65,148,153,183,187,206,211,237,242) have mixed types. Specify dtype option on import or set low_memory=False.\n",
      "  NASA_Exo_Archive = pd.read_csv('https://exoplanetarchive.ipac.caltech.edu/TAP/sync?query=select+*+from+ps&format=csv')\n"
     ]
    }
   ],
   "source": [
    "import pandas as pd\n",
    "NASA_Exo_Archive = pd.read_csv('https://exoplanetarchive.ipac.caltech.edu/TAP/sync?query=select+*+from+ps&format=csv')"
   ]
  },
  {
   "cell_type": "code",
   "execution_count": 51,
   "id": "6061232d-68fc-4b28-a8b9-cabb7d22c6ea",
   "metadata": {},
   "outputs": [
    {
     "data": {
      "application/vnd.jupyter.widget-view+json": {
       "model_id": "a86878c6d6a74c7ca8d51870cc7533dd",
       "version_major": 2,
       "version_minor": 0
      },
      "text/plain": [
       "Dropdown(description='Find planets', options=('GJ 667 C b', 'GJ 667 C g', 'GJ 667 C c', 'GJ 667 C e', 'GJ 667 …"
      ]
     },
     "metadata": {},
     "output_type": "display_data"
    }
   ],
   "source": [
    "#Find planets based on host name\n",
    "if (Spectra_name_same_as_host_name == True):\n",
    "    #choose planet\n",
    "    planets = NASA_Exo_Archive.loc[NASA_Exo_Archive['hostname'] == star_name]['pl_name']\n",
    "    Find_planets = widgets.Dropdown(options=planets.drop_duplicates(),description='Find planets',disabled=False)\n",
    "    display(Find_planets)\n",
    "else:\n",
    "    Find_host = widgets.Dropdown(options=(NASA_Exo_Archive['hostname'].drop_duplicates()),description='Find host',disabled=False)\n",
    "    display(Find_host)\n",
    "    \n",
    "    #choose planet\n",
    "    planets = NASA_Exo_Archive.loc[NASA_Exo_Archive['hostname'] == Find_host.value]['pl_name']\n",
    "    Find_planets = widgets.Dropdown(options=planets,description='Find planets',disabled=False)\n",
    "    display(Find_planets)"
   ]
  },
  {
   "cell_type": "code",
   "execution_count": 52,
   "id": "3ef8df23-fb24-4ca6-b884-1ddc02cef5c4",
   "metadata": {},
   "outputs": [],
   "source": [
    "#drop nan rows ofr luminosity and orbital period\n",
    "pl = NASA_Exo_Archive.loc[NASA_Exo_Archive['pl_name'] == Find_planets.value].dropna(subset='st_lum')\n",
    "pl = pl.dropna(subset='pl_orbsmax')"
   ]
  },
  {
   "cell_type": "code",
   "execution_count": 53,
   "id": "f69c4880-6602-4023-86a2-82bca0cf5de3",
   "metadata": {},
   "outputs": [
    {
     "name": "stdout",
     "output_type": "stream",
     "text": [
      "semi-major axis of GJ 667 C e = 0.213 AU\n"
     ]
    }
   ],
   "source": [
    "#find semi-major axis in AU\n",
    "pl = pl.sort_values(by=['rowupdate'])\n",
    "semi_major_axis = pl['pl_orbsmax'].iloc[-1]\n",
    "print('semi-major axis of '+Find_planets.value+' = '+str(semi_major_axis)+' AU')"
   ]
  },
  {
   "cell_type": "code",
   "execution_count": 54,
   "id": "62e8f3ec-c259-4dc1-8f86-2d200ea0687a",
   "metadata": {},
   "outputs": [
    {
     "name": "stdout",
     "output_type": "stream",
     "text": [
      "Star has 0.013708817661648536 times luminosity of Sun\n"
     ]
    }
   ],
   "source": [
    "#find solar luminosity relative to Sun\n",
    "stellar_luminosity = 10**pl['st_lum'].iloc[-1]\n",
    "print('Star has '+str(stellar_luminosity)+ ' times luminosity of Sun')"
   ]
  },
  {
   "cell_type": "code",
   "execution_count": 55,
   "id": "fc13e8f3-7027-4ee9-8c37-e15f148c52b2",
   "metadata": {},
   "outputs": [
    {
     "name": "stdout",
     "output_type": "stream",
     "text": [
      "GJ 667 C e recieves 0.3021626586799034 times flux recieved by Earth\n"
     ]
    }
   ],
   "source": [
    "flux_recieved_relative_to_Earth = stellar_luminosity/(semi_major_axis**2)\n",
    "print(Find_planets.value+' recieves '+str(flux_recieved_relative_to_Earth)+ ' times flux recieved by Earth')"
   ]
  },
  {
   "cell_type": "code",
   "execution_count": 46,
   "id": "471db816-32b7-4726-9745-4b27fe40913f",
   "metadata": {},
   "outputs": [],
   "source": [
    "#add in infrared wavelengths if required\n"
   ]
  },
  {
   "cell_type": "code",
   "execution_count": 47,
   "id": "06a878f2-8f0f-4fa2-ab2a-0a134f0ff235",
   "metadata": {},
   "outputs": [],
   "source": [
    "#rebin to wavelength grid\n"
   ]
  },
  {
   "cell_type": "code",
   "execution_count": 48,
   "id": "98431781-4099-4724-a173-3145c12a33a6",
   "metadata": {},
   "outputs": [
    {
     "name": "stdout",
     "output_type": "stream",
     "text": [
      "Scaled total stellar irradiance relative to the Sun: 0.8773643303455062\n"
     ]
    }
   ],
   "source": [
    "# rescale to planet\n",
    "Final_scaled_flux = Scaled_flux_to_Earth * flux_recieved_relative_to_Earth\n",
    "TSI_spectra = trapz(Final_scaled_flux, Wavelength_nm)\n",
    "print('Scaled total stellar irradiance relative to the Sun: '+ str(TSI_spectra/1360000))\n"
   ]
  },
  {
   "cell_type": "code",
   "execution_count": 57,
   "id": "cf099d19-38da-4560-941b-a342e2189f30",
   "metadata": {},
   "outputs": [
    {
     "data": {
      "text/plain": [
       "<matplotlib.legend.Legend at 0x7fefecc646d0>"
      ]
     },
     "execution_count": 57,
     "metadata": {},
     "output_type": "execute_result"
    },
    {
     "data": {
      "image/png": "[encoded data removed]",
      "text/plain": [
       "<Figure size 864x360 with 1 Axes>"
      ]
     },
     "metadata": {
      "needs_background": "light"
     },
     "output_type": "display_data"
    }
   ],
   "source": [
    "#final spectra compared to Sun\n",
    "plt.figure(figsize = (12,5))\n",
    "plt.plot(Wavelength_nm, Final_scaled_flux, color = 'r', label = 'Scaled MUSCLES spectra of\\n'+star_name+ ' at ' + Find_planets.value+'\\n('+str(round(TSI_spectra/1360000,3))+' '+r'$F_\\oplus$'+')')\n",
    "plt.plot(WACCM_wavelength,WACCM_Flux, color = 'k', label = 'Sun')\n",
    "plt.tick_params(labelsize = 15, width = 2, length = 4, right = True, top = True)\n",
    "plt.xlabel('Wavelength [nm]', fontsize = 15); plt.xscale('log')\n",
    "plt.ylabel('Flux Density mW/m'+sup(2)+'/nm)', fontsize = 15); plt.yscale('log')\n",
    "plt.legend(loc = 0, frameon = False, fontsize = 15)"
   ]
  },
  {
   "cell_type": "code",
   "execution_count": null,
   "id": "b97b8658-c314-49ba-9c7e-197f7c821c19",
   "metadata": {},
   "outputs": [],
   "source": []
  },
  {
   "cell_type": "code",
   "execution_count": null,
   "id": "a01874c9-8c4e-4145-b2f2-586ab0d95dd1",
   "metadata": {},
   "outputs": [],
   "source": [
    "\n"
   ]
  },
  {
   "cell_type": "code",
   "execution_count": null,
   "id": "2b2c68ee-9192-4389-87ce-6f31f0c05742",
   "metadata": {},
   "outputs": [],
   "source": []
  },
  {
   "cell_type": "code",
   "execution_count": 28,
   "id": "94a848be-c21b-46a3-964e-9b4d94d9c25a",
   "metadata": {},
   "outputs": [
    {
     "name": "stdout",
     "output_type": "stream",
     "text": [
      "1.628931\n"
     ]
    }
   ],
   "source": [
    "#extra information about planet\n",
    "#orbital period\n",
    "period = pl['pl_orbper'].iloc[-1]\n",
    "print(period)"
   ]
  },
  {
   "cell_type": "code",
   "execution_count": 29,
   "id": "01b9c0ac-abd4-4aab-98d2-d83988e466d1",
   "metadata": {},
   "outputs": [
    {
     "name": "stdout",
     "output_type": "stream",
     "text": [
      "1.13\n"
     ]
    }
   ],
   "source": [
    "#orbital radius\n",
    "radius = pl['pl_rade'].iloc[-1]\n",
    "print(radius)"
   ]
  },
  {
   "cell_type": "code",
   "execution_count": null,
   "id": "2a4a4ed4-92c9-445e-8dda-744b96ae07e6",
   "metadata": {},
   "outputs": [],
   "source": []
  },
  {
   "cell_type": "code",
   "execution_count": null,
   "id": "6225c2ef-952b-45ea-a7b0-d50f69b4d4ff",
   "metadata": {},
   "outputs": [],
   "source": []
  },
  {
   "cell_type": "code",
   "execution_count": null,
   "id": "9d914cad-f468-4202-89fb-0af0afd2d927",
   "metadata": {},
   "outputs": [],
   "source": []
  }
 ],
 "metadata": {
  "kernelspec": {
   "display_name": "Python 3 (ipykernel)",
   "language": "python",
   "name": "python3"
  },
  "language_info": {
   "codemirror_mode": {
    "name": "ipython",
    "version": 3
   },
   "file_extension": ".py",
   "mimetype": "text/x-python",
   "name": "python",
   "nbconvert_exporter": "python",
   "pygments_lexer": "ipython3",
   "version": "3.9.12"
  }
 },
 "nbformat": 4,
 "nbformat_minor": 5
}
