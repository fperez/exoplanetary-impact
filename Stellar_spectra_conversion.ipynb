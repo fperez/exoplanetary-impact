{
 "cells": [
  {
   "cell_type": "code",
   "execution_count": 46,
   "id": "1455bf51-33d9-4737-a6e7-dc53656158e4",
   "metadata": {},
   "outputs": [],
   "source": [
    "'''\n",
    "created on June 6th 2022 @ 3rd Eddy Cross Disciplinary Symposium, Vail, CO, USA\n",
    "Code based on original idea by Dan Marsh (NCAR, University of Leeds)\n",
    "Authors:\n",
    "Gregory Cooke (University of Leeds, pygjc@leeds.ac.uk)\n",
    "Allison Youngblood (NASA Goddard)\n",
    "'''\n",
    "\n",
    "'''\n",
    "USER GUIDE\n",
    "Code to read in files from the MUSCLES database\n",
    "and scale them to be used in various atmospheric models\n",
    "for different planets in those stellar systems\n",
    "\n",
    "Run each cell until drop down menus appear\n",
    "Select your desired options from dropdown menus\n",
    "'''\n",
    "\n",
    "'''\n",
    "To do list\n",
    "wget NASA exoplanet archive\n",
    "rebin spectra\n",
    "save out spectra file\n",
    "add different climate model wavelength grids (only WACCM so far)\n",
    "comment code better\n",
    "'''\n",
    "\n",
    "#imports\n",
    "import matplotlib.pyplot as plt\n",
    "import numpy as np\n",
    "import xarray as xr\n",
    "from ipywidgets import interactive\n",
    "import matplotlib.gridspec as gridspec\n",
    "from astropy.io import fits"
   ]
  },
  {
   "cell_type": "code",
   "execution_count": 47,
   "id": "34a5978e-4483-43e7-8ed2-1e377b3b4e98",
   "metadata": {},
   "outputs": [],
   "source": [
    "# return subscript number or text as a string\n",
    "def sub(Input):\n",
    "    return r'$_{'+str(Input)+'}$'\n",
    "\n",
    "# return superscript number or text as a string\n",
    "def sup(Input):\n",
    "    return r'$^{'+str(Input)+'}$'"
   ]
  },
  {
   "cell_type": "code",
   "execution_count": 50,
   "id": "df3a3d17-6322-48b9-8ffa-fbca091827ef",
   "metadata": {},
   "outputs": [
    {
     "data": {
      "application/vnd.jupyter.widget-view+json": {
       "model_id": "9ed96289434849b9a3e7997fe2177834",
       "version_major": 2,
       "version_minor": 0
      },
      "text/plain": [
       "Dropdown(description='MUSCLES Files:', options={'GJ 1132': 'https://archive.stsci.edu/missions/hlsp/muscles/gj…"
      ]
     },
     "metadata": {},
     "output_type": "display_data"
    }
   ],
   "source": [
    "'''\n",
    "program options begin here\n",
    "List of MUSCLES database below\n",
    "'''\n",
    "\n",
    "Stellar_names = {'GJ 1132':'https://archive.stsci.edu/missions/hlsp/muscles/gj1132/hlsp_muscles_multi_multi_gj1132_broadband_v23_adapt-const-res-sed.fits',\n",
    "                 'GJ 15A':'https://archive.stsci.edu/missions/hlsp/muscles/gj15a/hlsp_muscles_multi_multi_gj15a_broadband_v23_adapt-const-res-sed.fits',\n",
    "                 'GJ 1214':'https://archive.stsci.edu/missions/hlsp/muscles/gj1214/hlsp_muscles_multi_multi_gj1214_broadband_v22_adapt-const-res-sed.fits',\n",
    "                 'GJ 163':'https://archive.stsci.edu/missions/hlsp/muscles/gj163/hlsp_muscles_multi_multi_gj163_broadband_v23_adapt-const-res-sed.fits',\n",
    "                 'GJ 176':'https://archive.stsci.edu/missions/hlsp/muscles/gj176/hlsp_muscles_multi_multi_gj176_broadband_v22_adapt-const-res-sed.fits',\n",
    "                 'GJ 436':'https://archive.stsci.edu/missions/hlsp/muscles/gj436/hlsp_muscles_multi_multi_gj436_broadband_v22_adapt-const-res-sed.fits',\n",
    "                 'GJ 581':'https://archive.stsci.edu/missions/hlsp/muscles/gj581/hlsp_muscles_multi_multi_gj581_broadband_v22_adapt-const-res-sed.fits',\n",
    "                 'GJ 649':'https://archive.stsci.edu/missions/hlsp/muscles/gj649/hlsp_muscles_multi_multi_gj649_broadband_v23_adapt-const-res-sed.fits',\n",
    "                 'GJ 667 C':'https://archive.stsci.edu/missions/hlsp/muscles/gj667c/hlsp_muscles_multi_multi_gj667c_broadband_v22_adapt-const-res-sed.fits',\n",
    "                 'GJ 674':'https://archive.stsci.edu/missions/hlsp/muscles/gj674/hlsp_muscles_multi_multi_gj674_broadband_v23_adapt-const-res-sed.fits',\n",
    "                 'GJ 676 A':'https://archive.stsci.edu/missions/hlsp/muscles/gj676a/hlsp_muscles_multi_multi_gj676a_broadband_v23_adapt-const-res-sed.fits',\n",
    "                 'GJ 699':'https://archive.stsci.edu/missions/hlsp/muscles/gj699/hlsp_muscles_multi_multi_gj699_broadband_v23_adapt-const-res-sed.fits',\n",
    "                 'GJ 729':'https://archive.stsci.edu/missions/hlsp/muscles/gj729/hlsp_muscles_multi_multi_gj729_broadband_v23_adapt-const-res-sed.fits',\n",
    "                 'GJ 832':'https://archive.stsci.edu/missions/hlsp/muscles/gj832/hlsp_muscles_multi_multi_gj832_broadband_v22_adapt-const-res-sed.fits',\n",
    "                 'GJ 849':'https://archive.stsci.edu/missions/hlsp/muscles/gj849/hlsp_muscles_multi_multi_gj849_broadband_v23_adapt-const-res-sed.fits',\n",
    "                 'GJ 876':'https://archive.stsci.edu/missions/hlsp/muscles/gj876/hlsp_muscles_multi_multi_gj876_broadband_v22_adapt-const-res-sed.fits',\n",
    "                 'HD40307':'https://archive.stsci.edu/missions/hlsp/muscles/hd40307/hlsp_muscles_multi_multi_hd40307_broadband_v22_adapt-const-res-sed.fits',\n",
    "                 'HD85512':'https://archive.stsci.edu/missions/hlsp/muscles/hd85512/hlsp_muscles_multi_multi_hd85512_broadband_v22_adapt-const-res-sed.fits',\n",
    "                 'HD97658':'https://archive.stsci.edu/missions/hlsp/muscles/hd97658/hlsp_muscles_multi_multi_hd97658_broadband_v22_adapt-const-res-sed.fits',\n",
    "                 'L-980-5':'https://archive.stsci.edu/missions/hlsp/muscles/l-980-5/hlsp_muscles_multi_multi_l-980-5_broadband_v23_adapt-const-res-sed.fits',\n",
    "                 'LHS-2686':'https://archive.stsci.edu/missions/hlsp/muscles/lhs-2686/hlsp_muscles_multi_multi_lhs-2686_broadband_v23_adapt-const-res-sed.fits',\n",
    "                 'TRAPPIST-1':'https://archive.stsci.edu/missions/hlsp/muscles/trappist-1/hlsp_muscles_multi_multi_trappist-1_broadband_v23_adapt-const-res-sed.fits',\n",
    "                 'V-EPS-ERI':'https://archive.stsci.edu/missions/hlsp/muscles/v-eps-eri/hlsp_muscles_multi_multi_v-eps-eri_broadband_v22_adapt-const-res-sed.fits',\n",
    "                 'GJ551':'https://archive.stsci.edu/missions/hlsp/muscles/gj551/hlsp_muscles_multi_multi_gj551_broadband_v22_adapt-const-res-sed.fits'}\n",
    "\n",
    "#get a drop down menu\n",
    "import ipywidgets as widgets\n",
    "#select directories for MUSCLES files\n",
    "MUSCLES_files = widgets.Dropdown(options=(Stellar_names),description='MUSCLES Files:',disabled=False)\n",
    "display(MUSCLES_files)"
   ]
  },
  {
   "cell_type": "code",
   "execution_count": 135,
   "id": "6507a256-e63c-4b92-bd47-3233156f339d",
   "metadata": {},
   "outputs": [],
   "source": [
    "'''\n",
    "set Spectra_name_same_as_host_name = False if looking at exoplanets around\n",
    "a different star to the ones in the MUSCLES database\n",
    "i.e you want spectra for an M8 star but the closest spectra availiable is TRAPPIST-1\n",
    "otherwise in this example you will only be able to select TRAPPIST-1 planets \n",
    "if Spectra_name_same_as_host_name = True\n",
    "'''\n",
    "Spectra_name_same_as_host_name = True"
   ]
  },
  {
   "cell_type": "code",
   "execution_count": 136,
   "id": "de2d5d04-18d5-4fc8-8071-d5e6f29131ac",
   "metadata": {},
   "outputs": [],
   "source": [
    "#get star name\n",
    "star_name = [k for k, v in Stellar_names.items() if v == MUSCLES_files.value][0]\n"
   ]
  },
  {
   "cell_type": "code",
   "execution_count": 268,
   "id": "a6448e1c-09c3-4d11-ba61-988e95106699",
   "metadata": {},
   "outputs": [
    {
     "name": "stderr",
     "output_type": "stream",
     "text": [
      "--2022-06-07 22:57:54--  https://archive.stsci.edu/missions/hlsp/muscles/trappist-1/hlsp_muscles_multi_multi_trappist-1_broadband_v23_adapt-const-res-sed.fits\n",
      "Resolving archive.stsci.edu (archive.stsci.edu)... 130.167.201.60\n",
      "Connecting to archive.stsci.edu (archive.stsci.edu)|130.167.201.60|:443... connected.\n",
      "HTTP request sent, awaiting response... 200 OK\n",
      "Length: 13538880 (13M) [allicashion/octet-stream]\n",
      "Saving to: ‘hlsp_muscles_multi_multi_trappist-1_broadband_v23_adapt-const-res-sed.fits.2’\n",
      "\n",
      "     0K .......... .......... .......... .......... ..........  0%  614K 21s\n",
      "    50K .......... .......... .......... .......... ..........  0% 1.16M 16s\n",
      "   100K .......... .......... .......... .......... ..........  1% 59.4M 11s\n",
      "   150K .......... .......... .......... .......... ..........  1% 1.18M 11s\n",
      "   200K .......... .......... .......... .......... ..........  1% 70.1M 9s\n",
      "   250K .......... .......... .......... .......... ..........  2% 74.8M 7s\n",
      "   300K .......... .......... .......... .......... ..........  2% 1.19M 8s\n",
      "   350K .......... .......... .......... .......... ..........  3%  134M 7s\n",
      "   400K .......... .......... .......... .......... ..........  3%  141M 6s\n",
      "   450K .......... .......... .......... .......... ..........  3% 47.7M 5s\n",
      "   500K .......... .......... .......... .......... ..........  4%  126M 5s\n",
      "   550K .......... .......... .......... .......... ..........  4%  149M 4s\n",
      "   600K .......... .......... .......... .......... ..........  4% 1.28M 5s\n",
      "   650K .......... .......... .......... .......... ..........  5% 22.5M 4s\n",
      "   700K .......... .......... .......... .......... ..........  5%  153M 4s\n",
      "   750K .......... .......... .......... .......... ..........  6%  147M 4s\n",
      "   800K .......... .......... .......... .......... ..........  6%  142M 4s\n",
      "   850K .......... .......... .......... .......... ..........  6%  180M 3s\n",
      "   900K .......... .......... .......... .......... ..........  7%  155M 3s\n",
      "   950K .......... .......... .......... .......... ..........  7% 37.6M 3s\n",
      "  1000K .......... .......... .......... .......... ..........  7%  139M 3s\n",
      "  1050K .......... .......... .......... .......... ..........  8%  108M 3s\n",
      "  1100K .......... .......... .......... .......... ..........  8%  160M 3s\n",
      "  1150K .......... .......... .......... .......... ..........  9%  142M 3s\n",
      "  1200K .......... .......... .......... .......... ..........  9%  142M 2s\n",
      "  1250K .......... .......... .......... .......... ..........  9% 1.39M 3s\n",
      "  1300K .......... .......... .......... .......... .......... 10% 20.7M 3s\n",
      "  1350K .......... .......... .......... .......... .......... 10%  119M 2s\n",
      "  1400K .......... .......... .......... .......... .......... 10%  145M 2s\n",
      "  1450K .......... .......... .......... .......... .......... 11% 67.0M 2s\n",
      "  1500K .......... .......... .......... .......... .......... 11%  164M 2s\n",
      "  1550K .......... .......... .......... .......... .......... 12%  134M 2s\n",
      "  1600K .......... .......... .......... .......... .......... 12%  130M 2s\n",
      "  1650K .......... .......... .......... .......... .......... 12%  152M 2s\n",
      "  1700K .......... .......... .......... .......... .......... 13%  169M 2s\n",
      "  1750K .......... .......... .......... .......... .......... 13%  160M 2s\n",
      "  1800K .......... .......... .......... .......... .......... 13%  142M 2s\n",
      "  1850K .......... .......... .......... .......... .......... 14%  171M 2s\n",
      "  1900K .......... .......... .......... .......... .......... 14% 30.4M 2s\n",
      "  1950K .......... .......... .......... .......... .......... 15%  138M 2s\n",
      "  2000K .......... .......... .......... .......... .......... 15%  107M 2s\n",
      "  2050K .......... .......... .......... .......... .......... 15%  129M 2s\n",
      "  2100K .......... .......... .......... .......... .......... 16%  164M 2s\n",
      "  2150K .......... .......... .......... .......... .......... 16%  139M 2s\n",
      "  2200K .......... .......... .......... .......... .......... 17%  126M 1s\n",
      "  2250K .......... .......... .......... .......... .......... 17%  152M 1s\n",
      "  2300K .......... .......... .......... .......... .......... 17%  142M 1s\n",
      "  2350K .......... .......... .......... .......... .......... 18%  151M 1s\n",
      "  2400K .......... .......... .......... .......... .......... 18%  142M 1s\n",
      "  2450K .......... .......... .......... .......... .......... 18%  164M 1s\n",
      "  2500K .......... .......... .......... .......... .......... 19% 1.63M 1s\n",
      "  2550K .......... .......... .......... .......... .......... 19%  109M 1s\n",
      "  2600K .......... .......... .......... .......... .......... 20%  122M 1s\n",
      "  2650K .......... .......... .......... .......... .......... 20% 19.4M 1s\n",
      "  2700K .......... .......... .......... .......... .......... 20% 43.6M 1s\n",
      "  2750K .......... .......... .......... .......... .......... 21%  143M 1s\n",
      "  2800K .......... .......... .......... .......... .......... 21%  193M 1s\n",
      "  2850K .......... .......... .......... .......... .......... 21%  272M 1s\n",
      "  2900K .......... .......... .......... .......... .......... 22%  247M 1s\n",
      "  2950K .......... .......... .......... .......... .......... 22% 37.7M 1s\n",
      "  3000K .......... .......... .......... .......... .......... 23%  175M 1s\n",
      "  3050K .......... .......... .......... .......... .......... 23%  244M 1s\n",
      "  3100K .......... .......... .......... .......... .......... 23%  234M 1s\n",
      "  3150K .......... .......... .......... .......... .......... 24%  256M 1s\n",
      "  3200K .......... .......... .......... .......... .......... 24%  190M 1s\n",
      "  3250K .......... .......... .......... .......... .......... 24%  190M 1s\n",
      "  3300K .......... .......... .......... .......... .......... 25%  132M 1s\n",
      "  3350K .......... .......... .......... .......... .......... 25%  127M 1s\n",
      "  3400K .......... .......... .......... .......... .......... 26%  114M 1s\n",
      "  3450K .......... .......... .......... .......... .......... 26%  140M 1s\n",
      "  3500K .......... .......... .......... .......... .......... 26%  141M 1s\n",
      "  3550K .......... .......... .......... .......... .......... 27%  136M 1s\n",
      "  3600K .......... .......... .......... .......... .......... 27%  124M 1s\n",
      "  3650K .......... .......... .......... .......... .......... 27%  128M 1s\n",
      "  3700K .......... .......... .......... .......... .......... 28%  135M 1s\n",
      "  3750K .......... .......... .......... .......... .......... 28%  157M 1s\n",
      "  3800K .......... .......... .......... .......... .......... 29%  117M 1s\n",
      "  3850K .......... .......... .......... .......... .......... 29%  236M 1s\n",
      "  3900K .......... .......... .......... .......... .......... 29%  284M 1s\n",
      "  3950K .......... .......... .......... .......... .......... 30%  169M 1s\n",
      "  4000K .......... .......... .......... .......... .......... 30%  140M 1s\n",
      "  4050K .......... .......... .......... .......... .......... 31%  135M 1s\n",
      "  4100K .......... .......... .......... .......... .......... 31%  135M 1s\n",
      "  4150K .......... .......... .......... .......... .......... 31%  166M 1s\n",
      "  4200K .......... .......... .......... .......... .......... 32%  240M 1s\n",
      "  4250K .......... .......... .......... .......... .......... 32%  290M 1s\n",
      "  4300K .......... .......... .......... .......... .......... 32%  209M 1s\n",
      "  4350K .......... .......... .......... .......... .......... 33%  239M 1s\n",
      "  4400K .......... .......... .......... .......... .......... 33%  146M 1s\n",
      "  4450K .......... .......... .......... .......... .......... 34%  174M 1s\n",
      "  4500K .......... .......... .......... .......... .......... 34%  168M 1s\n",
      "  4550K .......... .......... .......... .......... .......... 34%  172M 1s\n",
      "  4600K .......... .......... .......... .......... .......... 35%  172M 1s\n",
      "  4650K .......... .......... .......... .......... .......... 35%  186M 1s\n",
      "  4700K .......... .......... .......... .......... .......... 35%  189M 1s\n",
      "  4750K .......... .......... .......... .......... .......... 36%  203M 1s\n",
      "  4800K .......... .......... .......... .......... .......... 36%  157M 1s\n",
      "  4850K .......... .......... .......... .......... .......... 37%  169M 1s\n",
      "  4900K .......... .......... .......... .......... .......... 37%  185M 1s\n",
      "  4950K .......... .......... .......... .......... .......... 37%  186M 1s\n",
      "  5000K .......... .......... .......... .......... .......... 38%  167M 1s\n",
      "  5050K .......... .......... .......... .......... .......... 38% 2.04M 1s\n",
      "  5100K .......... .......... .......... .......... .......... 38%  215M 1s\n",
      "  5150K .......... .......... .......... .......... .......... 39%  151M 1s\n",
      "  5200K .......... .......... .......... .......... .......... 39%  141M 1s\n",
      "  5250K .......... .......... .......... .......... .......... 40%  160M 1s\n",
      "  5300K .......... .......... .......... .......... .......... 40% 28.2M 1s\n",
      "  5350K .......... .......... .......... .......... .......... 40%  180M 1s\n",
      "  5400K .......... .......... .......... .......... .......... 41%  206M 1s\n",
      "  5450K .......... .......... .......... .......... .......... 41% 20.9M 1s\n",
      "  5500K .......... .......... .......... .......... .......... 41%  206M 1s\n",
      "  5550K .......... .......... .......... .......... .......... 42%  142M 1s\n",
      "  5600K .......... .......... .......... .......... .......... 42%  171M 1s\n",
      "  5650K .......... .......... .......... .......... .......... 43%  150M 1s\n",
      "  5700K .......... .......... .......... .......... .......... 43%  152M 0s\n",
      "  5750K .......... .......... .......... .......... .......... 43%  171M 0s\n",
      "  5800K .......... .......... .......... .......... .......... 44%  124M 0s\n",
      "  5850K .......... .......... .......... .......... .......... 44%  224M 0s\n",
      "  5900K .......... .......... .......... .......... .......... 45% 85.2M 0s\n",
      "  5950K .......... .......... .......... .......... .......... 45%  123M 0s\n",
      "  6000K .......... .......... .......... .......... .......... 45%  182M 0s\n",
      "  6050K .......... .......... .......... .......... .......... 46% 21.5M 0s\n",
      "  6100K .......... .......... .......... .......... .......... 46%  194M 0s\n",
      "  6150K .......... .......... .......... .......... .......... 46%  170M 0s\n",
      "  6200K .......... .......... .......... .......... .......... 47% 92.3M 0s\n",
      "  6250K .......... .......... .......... .......... .......... 47%  143M 0s\n",
      "  6300K .......... .......... .......... .......... .......... 48%  152M 0s\n",
      "  6350K .......... .......... .......... .......... .......... 48%  161M 0s\n",
      "  6400K .......... .......... .......... .......... .......... 48%  197M 0s\n",
      "  6450K .......... .......... .......... .......... .......... 49%  111M 0s\n",
      "  6500K .......... .......... .......... .......... .......... 49%  182M 0s\n",
      "  6550K .......... .......... .......... .......... .......... 49%  142M 0s\n",
      "  6600K .......... .......... .......... .......... .......... 50%  144M 0s\n",
      "  6650K .......... .......... .......... .......... .......... 50%  254M 0s\n",
      "  6700K .......... .......... .......... .......... .......... 51%  177M 0s\n",
      "  6750K .......... .......... .......... .......... .......... 51%  185M 0s\n",
      "  6800K .......... .......... .......... .......... .......... 51%  125M 0s\n",
      "  6850K .......... .......... .......... .......... .......... 52% 66.5M 0s\n",
      "  6900K .......... .......... .......... .......... .......... 52%  185M 0s\n",
      "  6950K .......... .......... .......... .......... .......... 52% 41.9M 0s\n",
      "  7000K .......... .......... .......... .......... .......... 53%  120M 0s\n",
      "  7050K .......... .......... .......... .......... .......... 53%  114M 0s\n",
      "  7100K .......... .......... .......... .......... .......... 54%  125M 0s\n",
      "  7150K .......... .......... .......... .......... .......... 54%  162M 0s\n",
      "  7200K .......... .......... .......... .......... .......... 54%  151M 0s\n",
      "  7250K .......... .......... .......... .......... .......... 55%  158M 0s\n",
      "  7300K .......... .......... .......... .......... .......... 55%  125M 0s\n",
      "  7350K .......... .......... .......... .......... .......... 55%  187M 0s\n",
      "  7400K .......... .......... .......... .......... .......... 56%  146M 0s\n",
      "  7450K .......... .......... .......... .......... .......... 56%  147M 0s\n",
      "  7500K .......... .......... .......... .......... .......... 57%  173M 0s\n",
      "  7550K .......... .......... .......... .......... .......... 57%  170M 0s\n",
      "  7600K .......... .......... .......... .......... .......... 57%  163M 0s\n",
      "  7650K .......... .......... .......... .......... .......... 58%  142M 0s\n",
      "  7700K .......... .......... .......... .......... .......... 58%  152M 0s\n",
      "  7750K .......... .......... .......... .......... .......... 58%  194M 0s\n",
      "  7800K .......... .......... .......... .......... .......... 59%  126M 0s\n",
      "  7850K .......... .......... .......... .......... .......... 59%  174M 0s\n",
      "  7900K .......... .......... .......... .......... .......... 60% 2.78M 0s\n",
      "  7950K .......... .......... .......... .......... .......... 60%  178M 0s\n",
      "  8000K .......... .......... .......... .......... .......... 60%  151M 0s\n",
      "  8050K .......... .......... .......... .......... .......... 61% 12.9M 0s\n",
      "  8100K .......... .......... .......... .......... .......... 61%  188M 0s\n",
      "  8150K .......... .......... .......... .......... .......... 62%  132M 0s\n",
      "  8200K .......... .......... .......... .......... .......... 62%  116M 0s\n",
      "  8250K .......... .......... .......... .......... .......... 62%  223M 0s\n",
      "  8300K .......... .......... .......... .......... .......... 63%  187M 0s\n",
      "  8350K .......... .......... .......... .......... .......... 63%  144M 0s\n",
      "  8400K .......... .......... .......... .......... .......... 63%  152M 0s\n",
      "  8450K .......... .......... .......... .......... .......... 64%  168M 0s\n",
      "  8500K .......... .......... .......... .......... .......... 64% 39.1M 0s\n",
      "  8550K .......... .......... .......... .......... .......... 65%  172M 0s\n",
      "  8600K .......... .......... .......... .......... .......... 65%  147M 0s\n",
      "  8650K .......... .......... .......... .......... .......... 65% 99.8M 0s\n",
      "  8700K .......... .......... .......... .......... .......... 66%  200M 0s\n",
      "  8750K .......... .......... .......... .......... .......... 66%  179M 0s\n",
      "  8800K .......... .......... .......... .......... .......... 66% 45.8M 0s\n",
      "  8850K .......... .......... .......... .......... .......... 67%  181M 0s\n",
      "  8900K .......... .......... .......... .......... .......... 67%  188M 0s\n",
      "  8950K .......... .......... .......... .......... .......... 68%  211M 0s\n",
      "  9000K .......... .......... .......... .......... .......... 68%  164M 0s\n",
      "  9050K .......... .......... .......... .......... .......... 68% 26.7M 0s\n",
      "  9100K .......... .......... .......... .......... .......... 69%  169M 0s\n",
      "  9150K .......... .......... .......... .......... .......... 69%  181M 0s\n",
      "  9200K .......... .......... .......... .......... .......... 69% 95.5M 0s\n",
      "  9250K .......... .......... .......... .......... .......... 70%  172M 0s\n",
      "  9300K .......... .......... .......... .......... .......... 70% 94.7M 0s\n",
      "  9350K .......... .......... .......... .......... .......... 71%  171M 0s\n",
      "  9400K .......... .......... .......... .......... .......... 71%  156M 0s\n",
      "  9450K .......... .......... .......... .......... .......... 71%  171M 0s\n",
      "  9500K .......... .......... .......... .......... .......... 72% 76.4M 0s\n",
      "  9550K .......... .......... .......... .......... .......... 72%  157M 0s\n",
      "  9600K .......... .......... .......... .......... .......... 72%  118M 0s\n",
      "  9650K .......... .......... .......... .......... .......... 73%  147M 0s\n",
      "  9700K .......... .......... .......... .......... .......... 73%  212M 0s\n",
      "  9750K .......... .......... .......... .......... .......... 74%  280M 0s\n",
      "  9800K .......... .......... .......... .......... .......... 74%  183M 0s\n",
      "  9850K .......... .......... .......... .......... .......... 74%  167M 0s\n",
      "  9900K .......... .......... .......... .......... .......... 75%  163M 0s\n",
      "  9950K .......... .......... .......... .......... .......... 75%  157M 0s\n",
      " 10000K .......... .......... .......... .......... .......... 76%  133M 0s\n",
      " 10050K .......... .......... .......... .......... .......... 76% 39.8M 0s\n",
      " 10100K .......... .......... .......... .......... .......... 76%  172M 0s\n",
      " 10150K .......... .......... .......... .......... .......... 77%  175M 0s\n",
      " 10200K .......... .......... .......... .......... .......... 77%  137M 0s\n",
      " 10250K .......... .......... .......... .......... .......... 77%  236M 0s\n",
      " 10300K .......... .......... .......... .......... .......... 78%  264M 0s\n",
      " 10350K .......... .......... .......... .......... .......... 78%  142M 0s\n",
      " 10400K .......... .......... .......... .......... .......... 79%  127M 0s\n",
      " 10450K .......... .......... .......... .......... .......... 79%  252M 0s\n",
      " 10500K .......... .......... .......... .......... .......... 79%  122M 0s\n",
      " 10550K .......... .......... .......... .......... .......... 80% 2.80M 0s\n",
      " 10600K .......... .......... .......... .......... .......... 80%  179M 0s\n",
      " 10650K .......... .......... .......... .......... .......... 80%  170M 0s\n",
      " 10700K .......... .......... .......... .......... .......... 81%  169M 0s\n",
      " 10750K .......... .......... .......... .......... .......... 81%  153M 0s\n",
      " 10800K .......... .......... .......... .......... .......... 82%  201M 0s\n",
      " 10850K .......... .......... .......... .......... .......... 82%  232M 0s\n",
      " 10900K .......... .......... .......... .......... .......... 82%  138M 0s\n",
      " 10950K .......... .......... .......... .......... .......... 83% 29.0M 0s\n",
      " 11000K .......... .......... .......... .......... .......... 83% 11.5M 0s\n",
      " 11050K .......... .......... .......... .......... .......... 83%  152M 0s\n",
      " 11100K .......... .......... .......... .......... .......... 84%  106M 0s\n",
      " 11150K .......... .......... .......... .......... .......... 84%  150M 0s\n",
      " 11200K .......... .......... .......... .......... .......... 85%  125M 0s\n",
      " 11250K .......... .......... .......... .......... .......... 85%  146M 0s\n",
      " 11300K .......... .......... .......... .......... .......... 85%  155M 0s\n",
      " 11350K .......... .......... .......... .......... .......... 86%  135M 0s\n",
      " 11400K .......... .......... .......... .......... .......... 86%  145M 0s\n",
      " 11450K .......... .......... .......... .......... .......... 86%  155M 0s\n",
      " 11500K .......... .......... .......... .......... .......... 87%  148M 0s\n",
      " 11550K .......... .......... .......... .......... .......... 87% 26.5M 0s\n",
      " 11600K .......... .......... .......... .......... .......... 88%  111M 0s\n",
      " 11650K .......... .......... .......... .......... .......... 88%  150M 0s\n",
      " 11700K .......... .......... .......... .......... .......... 88%  146M 0s\n",
      " 11750K .......... .......... .......... .......... .......... 89%  145M 0s\n",
      " 11800K .......... .......... .......... .......... .......... 89%  122M 0s\n",
      " 11850K .......... .......... .......... .......... .......... 90%  146M 0s\n",
      " 11900K .......... .......... .......... .......... .......... 90%  150M 0s\n",
      " 11950K .......... .......... .......... .......... .......... 90%  161M 0s\n",
      " 12000K .......... .......... .......... .......... .......... 91%  129M 0s\n",
      " 12050K .......... .......... .......... .......... .......... 91% 41.6M 0s\n",
      " 12100K .......... .......... .......... .......... .......... 91%  178M 0s\n",
      " 12150K .......... .......... .......... .......... .......... 92%  149M 0s\n",
      " 12200K .......... .......... .......... .......... .......... 92%  122M 0s\n",
      " 12250K .......... .......... .......... .......... .......... 93%  172M 0s\n",
      " 12300K .......... .......... .......... .......... .......... 93%  101M 0s\n",
      " 12350K .......... .......... .......... .......... .......... 93%  127M 0s\n",
      " 12400K .......... .......... .......... .......... .......... 94%  110M 0s\n",
      " 12450K .......... .......... .......... .......... .......... 94%  159M 0s\n",
      " 12500K .......... .......... .......... .......... .......... 94%  154M 0s\n",
      " 12550K .......... .......... .......... .......... .......... 95% 41.0M 0s\n",
      " 12600K .......... .......... .......... .......... .......... 95%  120M 0s\n",
      " 12650K .......... .......... .......... .......... .......... 96% 66.5M 0s\n",
      " 12700K .......... .......... .......... .......... .......... 96%  130M 0s\n",
      " 12750K .......... .......... .......... .......... .......... 96% 99.4M 0s\n",
      " 12800K .......... .......... .......... .......... .......... 97% 79.1M 0s\n",
      " 12850K .......... .......... .......... .......... .......... 97%  132M 0s\n",
      " 12900K .......... .......... .......... .......... .......... 97%  136M 0s\n",
      " 12950K .......... .......... .......... .......... .......... 98%  120M 0s\n",
      " 13000K .......... .......... .......... .......... .......... 98%  131M 0s\n",
      " 13050K .......... .......... .......... .......... .......... 99%  163M 0s\n",
      " 13100K .......... .......... .......... .......... .......... 99%  151M 0s\n",
      " 13150K .......... .......... .......... .......... .......... 99%  170M 0s\n",
      " 13200K .......... .......... .                               100%  139M=0.5s\n",
      "\n",
      "2022-06-07 22:57:55 (26.6 MB/s) - ‘hlsp_muscles_multi_multi_trappist-1_broadband_v23_adapt-const-res-sed.fits.2’ saved [13538880/13538880]\n",
      "\n"
     ]
    }
   ],
   "source": [
    "# Import MUSCLES spectra\n",
    "import os\n",
    "if(os.path.isfile(MUSCLES_files.value)): print('File already downloaded')\n",
    "else:os.system('wget '+ MUSCLES_files.value)"
   ]
  },
  {
   "cell_type": "code",
   "execution_count": 269,
   "id": "f48bbecf-13f8-4da7-804e-29ebd95ecd1d",
   "metadata": {},
   "outputs": [
    {
     "data": {
      "text/plain": [
       "<matplotlib.legend.Legend at 0x7f36edc99c40>"
      ]
     },
     "execution_count": 269,
     "metadata": {},
     "output_type": "execute_result"
    },
    {
     "data": {
      "image/png": "[encoded data removed]",
      "text/plain": [
       "<Figure size 864x360 with 1 Axes>"
      ]
     },
     "metadata": {
      "needs_background": "light"
     },
     "output_type": "display_data"
    }
   ],
   "source": [
    "spec = fits.getdata(MUSCLES_files.value,1)\n",
    "plt.figure(figsize = (12,5))\n",
    "plt.plot(spec['WAVELENGTH'],spec['FLUX'], color = 'k', label = 'MUSCLES spectra of '+star_name)\n",
    "plt.tick_params(labelsize = 15, width = 2, length = 4, right = True, top = True)\n",
    "plt.xlabel('Wavelength', fontsize = 15); plt.xscale('log')\n",
    "plt.ylabel('Flux Density (erg/cm2/s/Ang)', fontsize = 15); plt.yscale('log')\n",
    "plt.legend(loc = 0, frameon = False, fontsize = 15)"
   ]
  },
  {
   "cell_type": "code",
   "execution_count": 270,
   "id": "63f9a9e1-eadd-4905-8011-068aaa5f0a8a",
   "metadata": {},
   "outputs": [],
   "source": [
    "#convert to mW/m2/nm\n",
    "per_cm2_to_per_m2 = 100**2\n",
    "erg_per_s_to_mW = 1e-4\n",
    "per_Ang_to_per_nm = 10\n",
    "New_flux = spec['FLUX'] * erg_per_s_to_mW * per_cm2_to_per_m2 * per_Ang_to_per_nm\n",
    "Wavelength_nm = spec['WAVELENGTH']/10"
   ]
  },
  {
   "cell_type": "code",
   "execution_count": 271,
   "id": "4f80a3e3-f1b6-4c99-84e6-06553f106934",
   "metadata": {},
   "outputs": [
    {
     "data": {
      "text/plain": [
       "\"\\nplt.figure(figsize = (12,5))\\nplt.plot(Wavelength_nm,New_flux, color = 'k', label = 'MUSCLES spectra of '+star_name)\\nplt.tick_params(labelsize = 15, width = 2, length = 4, right = True, top = True)\\nplt.xlabel('Wavelength', fontsize = 15); plt.xscale('log')\\nplt.ylabel('Flux Density mW/m'+sup(2)+'/nm)', fontsize = 15); plt.yscale('log')\\nplt.legend(loc = 0, frameon = False, fontsize = 15)\\n\""
      ]
     },
     "execution_count": 271,
     "metadata": {},
     "output_type": "execute_result"
    }
   ],
   "source": [
    "# plot in new units\n",
    "'''\n",
    "plt.figure(figsize = (12,5))\n",
    "plt.plot(Wavelength_nm,New_flux, color = 'k', label = 'MUSCLES spectra of '+star_name)\n",
    "plt.tick_params(labelsize = 15, width = 2, length = 4, right = True, top = True)\n",
    "plt.xlabel('Wavelength', fontsize = 15); plt.xscale('log')\n",
    "plt.ylabel('Flux Density mW/m'+sup(2)+'/nm)', fontsize = 15); plt.yscale('log')\n",
    "plt.legend(loc = 0, frameon = False, fontsize = 15)\n",
    "'''"
   ]
  },
  {
   "cell_type": "code",
   "execution_count": 272,
   "id": "9a61fd9f-90c2-4565-bf43-7e0263257f2a",
   "metadata": {},
   "outputs": [
    {
     "data": {
      "text/plain": [
       "0"
      ]
     },
     "execution_count": 272,
     "metadata": {},
     "output_type": "execute_result"
    }
   ],
   "source": [
    "#remove MUSCLES files in current directory\n",
    "os.system('rm *muscles*.fits')"
   ]
  },
  {
   "cell_type": "code",
   "execution_count": 273,
   "id": "18c8b69e-49d2-4e3f-a5b2-9fe2289bfd67",
   "metadata": {},
   "outputs": [
    {
     "name": "stdout",
     "output_type": "stream",
     "text": [
      "Total stellar irradiance relative to the Sun: 8.605194006526416e-17\n"
     ]
    }
   ],
   "source": [
    "#find total stellar irradiance from file\n",
    "from scipy.integrate import trapz\n",
    "#get total stellar irradiance at top of atmosphere\n",
    "TSI_spectra = trapz(New_flux,Wavelength_nm)\n",
    "print('Total stellar irradiance relative to the Sun: '+ str(TSI_spectra/1360000))"
   ]
  },
  {
   "cell_type": "code",
   "execution_count": 274,
   "id": "f1734515-6961-4814-aeba-bd257bec0c69",
   "metadata": {},
   "outputs": [
    {
     "name": "stdout",
     "output_type": "stream",
     "text": [
      "Scaled total stellar irradiance relative to the Sun: 1.0\n"
     ]
    }
   ],
   "source": [
    "# scale TSI\n",
    "Scaled_flux_to_Earth = New_flux/(TSI_spectra/1360000)\n",
    "TSI_spectra = trapz(Scaled_flux_to_Earth, Wavelength_nm)\n",
    "print('Scaled total stellar irradiance relative to the Sun: '+ str(TSI_spectra/1360000))"
   ]
  },
  {
   "cell_type": "code",
   "execution_count": 275,
   "id": "9e20e0e7-50d1-4985-9fbb-5a468e210c90",
   "metadata": {},
   "outputs": [
    {
     "data": {
      "application/vnd.jupyter.widget-view+json": {
       "model_id": "7bb998ad8561496295e4c8b8b49d34de",
       "version_major": 2,
       "version_minor": 0
      },
      "text/plain": [
       "Dropdown(description='Select climate model', options=('WACCM', 'CAM', 'ExoCam', 'UM', 'ROCKE-3D', 'CCSM3', 'At…"
      ]
     },
     "metadata": {},
     "output_type": "display_data"
    }
   ],
   "source": [
    "#Select climate model\n",
    "Climate_model_list = ['WACCM','CAM','ExoCam','UM','ROCKE-3D','CCSM3','Atmos','ExoPrime']\n",
    "Climate_model_selection = widgets.Dropdown(options=Climate_model_list,description='Select climate model',disabled=False)\n",
    "display(Climate_model_selection)"
   ]
  },
  {
   "cell_type": "code",
   "execution_count": 276,
   "id": "4161b9de-29bb-4663-adb9-ed61fcb0b08d",
   "metadata": {},
   "outputs": [
    {
     "name": "stdout",
     "output_type": "stream",
     "text": [
      "File already downloaded\n"
     ]
    },
    {
     "data": {
      "image/png": "[encoded data removed]",
      "text/plain": [
       "<Figure size 864x360 with 1 Axes>"
      ]
     },
     "metadata": {
      "needs_background": "light"
     },
     "output_type": "display_data"
    }
   ],
   "source": [
    "#Compare to WACCM standard solar file\n",
    "if (Climate_model_selection.value == 'WACCM' or Climate_model_selection.value == 'CAM'):\n",
    "    #check for file. Download if not in directory\n",
    "    if(os.path.isfile('SolarForcingCMIP6piControl_c160921.nc')): print('File already downloaded')\n",
    "    else: os.system('wget https://svn-ccsm-inputdata.cgd.ucar.edu/trunk/inputdata/atm/cam/solar/SolarForcingCMIP6piControl_c160921.nc --no-check-certificate')\n",
    "    solar_file = 'SolarForcingCMIP6piControl_c160921.nc'#read in file\n",
    "\n",
    "    ds = xr.open_dataset(solar_file)#attach file to dataset\n",
    "    ssi = ds['ssi'].isel(time=0) #define dataset from file\n",
    "    WACCM_Flux = ssi.values #flux values\n",
    "    WACCM_wavelength = ssi.wavelength.values #wavelength grid\n",
    "\n",
    "    #compare spectra to Sun\n",
    "    plt.figure(figsize = (12,5))\n",
    "    plt.plot(Wavelength_nm, Scaled_flux_to_Earth, color = 'r', label = 'MUSCLES spectra of '+star_name)\n",
    "    plt.plot(WACCM_wavelength,WACCM_Flux, color = 'k', label = 'Sun')\n",
    "    plt.tick_params(labelsize = 15, width = 2, length = 4, right = True, top = True)\n",
    "    plt.xlabel('Wavelength [nm]', fontsize = 15); plt.xscale('log')\n",
    "    plt.ylabel('Flux Density mW/m'+sup(2)+'/nm)', fontsize = 15); plt.yscale('log')\n",
    "    plt.legend(loc = 0, frameon = False, fontsize = 15)\n",
    "    \n",
    "elif(Climate_model_selection.value == 'ExoCAM'):\n",
    "    print('ExoCam spectrum input file unknown')  \n",
    "    \n",
    "elif(Climate_model_selection.value == 'UM'):\n",
    "    print('UM spectrum input file unknown')  \n",
    "    \n",
    "elif(Climate_model_selection.value == 'ROCKE-3D'):\n",
    "    #check for file. Download if not in directory\n",
    "    if(os.path.isfile('sun')): print('File already downloaded')\n",
    "    else: os.system('wget https://portal.nccs.nasa.gov/GISS_modelE/ROCKE-3D/stellar_spectra/sun')\n",
    "    solar_file = 'SolarForcingCMIP6piControl_c160921.nc'#read in file\n",
    "    ROCKE_3D_solar_input = np.genfromtxt('sun', skip_header = 5, skip_footer = 1)\n",
    "    ROCKE_3D_Wavelength = ROCKE_3D_solar_input[:,0]\n",
    "    ROCKE_3D_Wavelength_nm = ROCKE_3D_Wavelength*1e9\n",
    "    ROCKE_3D_Flux = ROCKE_3D_solar_input[:,1]\n",
    "    \n",
    "    #compare spectra to Sun\n",
    "    plt.figure(figsize = (12,5))\n",
    "    plt.plot(Wavelength_nm, Scaled_flux_to_Earth, color = 'r', label = 'MUSCLES spectra of '+star_name)\n",
    "    plt.plot(ROCKE_3D_Wavelength_nm, ROCKE_3D_Flux, color = 'k', label = 'Sun')\n",
    "    plt.tick_params(labelsize = 15, width = 2, length = 4, right = True, top = True)\n",
    "    plt.xlabel('Wavelength [nm]', fontsize = 15); plt.xscale('log')\n",
    "    plt.ylabel('Irradiance [W/m]'+sup(-3), fontsize = 15); plt.yscale('log')\n",
    "    plt.xscale('log')\n",
    "    plt.yscale('log')\n",
    "    plt.legend(loc = 0, frameon = False, fontsize = 15)\n",
    "    \n",
    "elif(Climate_model_selection.value == 'CCSM3'):\n",
    "    print('CCSM3 spectrum input file unknown') \n",
    "    \n",
    "elif(Climate_model_selection.value == 'Atmos'):\n",
    "    if(os.path.isfile('muscles_gj667c.txt')): print('File already downloaded')\n",
    "    else: os.system('wget https://raw.githubusercontent.com/VirtualPlanetaryLaboratory/atmos/master/PHOTOCHEM/DATA/FLUX/muscles_gj667c.txt')\n",
    "    ATMOS_gj667c_input = np.genfromtxt('muscles_gj667c.txt')\n",
    "    ATMOS_gj667c_Wavelength_nm = ATMOS_gj667c_input[:,0]/10\n",
    "    ATMOS_gj667c_Flux = ATMOS_gj667c_input[:,1]\n",
    "    \n",
    "    #compare spectra to GJ 667 C\n",
    "    plt.figure(figsize = (12,5))\n",
    "    plt.plot(ATMOS_gj667c_Wavelength_nm, ATMOS_gj667c_Flux, label = 'GJ 667 C')\n",
    "    plt.plot(Wavelength_nm, Scaled_flux_to_Earth, color = 'r', label = 'MUSCLES spectra of '+star_name)\n",
    "    plt.xlabel('Wavelength [nm]', fontsize = 15); plt.xscale('log')\n",
    "    plt.ylabel('Irradiance [??]'+sup(-3), fontsize = 15); plt.yscale('log')\n",
    "    plt.xscale('log')\n",
    "    plt.yscale('log')\n",
    "    plt.legend(loc = 0, frameon = False, fontsize = 15)\n",
    "    plt.yscale('log')\n",
    "else:\n",
    "    print('Spectrum input file unknown')"
   ]
  },
  {
   "cell_type": "code",
   "execution_count": null,
   "id": "2b71ec21-1791-4b96-996d-9f99177787d2",
   "metadata": {},
   "outputs": [],
   "source": []
  },
  {
   "cell_type": "code",
   "execution_count": 146,
   "id": "bb503362-3525-4d51-a933-5dd15957666d",
   "metadata": {},
   "outputs": [],
   "source": [
    "#Now scale to specific planet in that system\n",
    "#Use NASA exoplanet archive????"
   ]
  },
  {
   "cell_type": "code",
   "execution_count": 304,
   "id": "02beac7a-3d46-4404-a2ae-a19691136cc0",
   "metadata": {},
   "outputs": [
    {
     "name": "stdout",
     "output_type": "stream",
     "text": [
      "File already downloaded\n"
     ]
    }
   ],
   "source": [
    "'''\n",
    "Ideally would wget file from exoplanet archive\n",
    "! wget https://exoplanetarchive.ipac.caltech.edu/cgi-bin/IceTable/nph-iceTblDownload | wget https://exoplanetarchive.ipac.caltech.edu/cgi-bin/TblView/nph-tblView?app=ExoTbls&config=PS\n",
    "\n",
    "For now I have uploaded the file I downloaded and have a temporary fix\n",
    "'''\n",
    "\n",
    "if(os.path.isfile('PS_2022.06.06_22.28.545.csv')): print('File already downloaded')\n",
    "else: os.system('wget -O PS_2022.06.06_22.28.545.csv https://drive.google.com/uc?id=1im9dAmDbHEi-Xbpv8hTGbujJTk9WXkmV&export=download')"
   ]
  },
  {
   "cell_type": "code",
   "execution_count": 306,
   "id": "25f9ea19-fbe1-4211-a57c-9ecdf244fc1c",
   "metadata": {},
   "outputs": [
    {
     "name": "stderr",
     "output_type": "stream",
     "text": [
      "/tmp/ipykernel_78/1536157143.py:2: DtypeWarning: Columns (4,5) have mixed types. Specify dtype option on import or set low_memory=False.\n",
      "  NASA_Exo_Archive = pd.read_csv('PS_2022.06.06_22.28.545.csv', skiprows = 290)\n"
     ]
    }
   ],
   "source": [
    "import pandas as pd\n",
    "NASA_Exo_Archive = pd.read_csv('PS_2022.06.06_22.28.545.csv', skiprows = 290)"
   ]
  },
  {
   "cell_type": "code",
   "execution_count": 307,
   "id": "ca91329c-451a-4c34-a557-71f52dbc1656",
   "metadata": {},
   "outputs": [],
   "source": [
    "#Find_host = widgets.Dropdown(options=(NASA_Exo_Archive['hostname'].drop_duplicates() ),description='Find host',disabled=False)\n",
    "#display(Find_host)"
   ]
  },
  {
   "cell_type": "code",
   "execution_count": 309,
   "id": "6061232d-68fc-4b28-a8b9-cabb7d22c6ea",
   "metadata": {},
   "outputs": [
    {
     "data": {
      "application/vnd.jupyter.widget-view+json": {
       "model_id": "1b5986bd642548789474bc20e8bc1d46",
       "version_major": 2,
       "version_minor": 0
      },
      "text/plain": [
       "Dropdown(description='Find planets', options=('TRAPPIST-1 b', 'TRAPPIST-1 c', 'TRAPPIST-1 d', 'TRAPPIST-1 e', …"
      ]
     },
     "metadata": {},
     "output_type": "display_data"
    }
   ],
   "source": [
    "#Find planets based on host name\n",
    "if (Spectra_name_same_as_host_name == True):\n",
    "    #choose planet\n",
    "    planets = NASA_Exo_Archive.loc[NASA_Exo_Archive['hostname'] == star_name]['pl_name']\n",
    "    Find_planets = widgets.Dropdown(options=planets.drop_duplicates(),description='Find planets',disabled=False)\n",
    "    display(Find_planets)\n",
    "else:\n",
    "    Find_host = widgets.Dropdown(options=(NASA_Exo_Archive['hostname'].drop_duplicates()),description='Find host',disabled=False)\n",
    "    display(Find_host)\n",
    "    \n",
    "    #choose planet\n",
    "    planets = NASA_Exo_Archive.loc[NASA_Exo_Archive['hostname'] == Find_host.value]['pl_name']\n",
    "    Find_planets = widgets.Dropdown(options=planets,description='Find planets',disabled=False)\n",
    "    display(Find_planets)"
   ]
  },
  {
   "cell_type": "code",
   "execution_count": 310,
   "id": "3ef8df23-fb24-4ca6-b884-1ddc02cef5c4",
   "metadata": {},
   "outputs": [],
   "source": [
    "#drop nan rows ofr luminosity and orbital period\n",
    "pl = NASA_Exo_Archive.loc[NASA_Exo_Archive['pl_name'] == Find_planets.value].dropna(subset='st_lum')\n",
    "pl = pl.dropna(subset='pl_orbsmax')"
   ]
  },
  {
   "cell_type": "code",
   "execution_count": 311,
   "id": "f69c4880-6602-4023-86a2-82bca0cf5de3",
   "metadata": {},
   "outputs": [
    {
     "name": "stdout",
     "output_type": "stream",
     "text": [
      "semi-major axis of TRAPPIST-1 b = 0.01154 AU\n"
     ]
    }
   ],
   "source": [
    "#find semi-major axis in AU\n",
    "pl = pl.sort_values(by=['rowupdate'])\n",
    "semi_major_axis = pl['pl_orbsmax'].iloc[-1]\n",
    "print('semi-major axis of '+Find_planets.value+' = '+str(semi_major_axis)+' AU')"
   ]
  },
  {
   "cell_type": "code",
   "execution_count": 312,
   "id": "62e8f3ec-c259-4dc1-8f86-2d200ea0687a",
   "metadata": {},
   "outputs": [
    {
     "name": "stdout",
     "output_type": "stream",
     "text": [
      "Star has 0.0005533501092157366 times luminosity of Sun\n"
     ]
    }
   ],
   "source": [
    "#find solar luminosity relative to Sun\n",
    "stellar_luminosity = 10**pl['st_lum'].iloc[-1]\n",
    "print('Star has '+str(stellar_luminosity)+ ' times luminosity of Sun')"
   ]
  },
  {
   "cell_type": "code",
   "execution_count": 313,
   "id": "fc13e8f3-7027-4ee9-8c37-e15f148c52b2",
   "metadata": {},
   "outputs": [
    {
     "name": "stdout",
     "output_type": "stream",
     "text": [
      "TRAPPIST-1 b recieves 4.155166035519109 times flux recieved by Earth\n"
     ]
    }
   ],
   "source": [
    "flux_recieved_relative_to_Earth = stellar_luminosity/(semi_major_axis**2)\n",
    "print(Find_planets.value+' recieves '+str(flux_recieved_relative_to_Earth)+ ' times flux recieved by Earth')"
   ]
  },
  {
   "cell_type": "code",
   "execution_count": 314,
   "id": "471db816-32b7-4726-9745-4b27fe40913f",
   "metadata": {},
   "outputs": [],
   "source": [
    "#add in infrared wavelengths if required\n"
   ]
  },
  {
   "cell_type": "code",
   "execution_count": 315,
   "id": "06a878f2-8f0f-4fa2-ab2a-0a134f0ff235",
   "metadata": {},
   "outputs": [],
   "source": [
    "#rebin to wavelength grid\n"
   ]
  },
  {
   "cell_type": "code",
   "execution_count": 316,
   "id": "98431781-4099-4724-a173-3145c12a33a6",
   "metadata": {},
   "outputs": [
    {
     "name": "stdout",
     "output_type": "stream",
     "text": [
      "Scaled total stellar irradiance relative to the Sun: 4.155166035519111\n"
     ]
    }
   ],
   "source": [
    "# rescale to planet\n",
    "Final_scaled_flux = Scaled_flux_to_Earth * flux_recieved_relative_to_Earth\n",
    "TSI_spectra = trapz(Final_scaled_flux, Wavelength_nm)\n",
    "print('Scaled total stellar irradiance relative to the Sun: '+ str(TSI_spectra/1360000))\n"
   ]
  },
  {
   "cell_type": "code",
   "execution_count": null,
   "id": "3895883a-f299-48ca-b912-7ad1495164fe",
   "metadata": {},
   "outputs": [],
   "source": []
  },
  {
   "cell_type": "code",
   "execution_count": 317,
   "id": "cf099d19-38da-4560-941b-a342e2189f30",
   "metadata": {},
   "outputs": [
    {
     "data": {
      "text/plain": [
       "<matplotlib.legend.Legend at 0x7f37a547e730>"
      ]
     },
     "execution_count": 317,
     "metadata": {},
     "output_type": "execute_result"
    },
    {
     "data": {
      "image/png": "[encoded data removed]",
      "text/plain": [
       "<Figure size 864x360 with 1 Axes>"
      ]
     },
     "metadata": {
      "needs_background": "light"
     },
     "output_type": "display_data"
    }
   ],
   "source": [
    "#final spectra compared to Sun\n",
    "plt.figure(figsize = (12,5))\n",
    "plt.plot(Wavelength_nm, Final_scaled_flux, color = 'r', label = 'Scaled MUSCLES spectra of\\n'+star_name+ ' at ' + Find_planets.value+'\\n('+str(round(TSI_spectra/1360000,3))+' '+r'$L_\\odot$'+')')\n",
    "plt.plot(WACCM_wavelength,WACCM_Flux, color = 'k', label = 'Sun')\n",
    "plt.tick_params(labelsize = 15, width = 2, length = 4, right = True, top = True)\n",
    "plt.xlabel('Wavelength', fontsize = 15); plt.xscale('log')\n",
    "plt.ylabel('Flux Density mW/m'+sup(2)+'/nm)', fontsize = 15); plt.yscale('log')\n",
    "plt.legend(loc = 0, frameon = False, fontsize = 15)"
   ]
  },
  {
   "cell_type": "code",
   "execution_count": null,
   "id": "b97b8658-c314-49ba-9c7e-197f7c821c19",
   "metadata": {},
   "outputs": [],
   "source": []
  },
  {
   "cell_type": "code",
   "execution_count": null,
   "id": "a01874c9-8c4e-4145-b2f2-586ab0d95dd1",
   "metadata": {},
   "outputs": [],
   "source": []
  },
  {
   "cell_type": "code",
   "execution_count": null,
   "id": "2b2c68ee-9192-4389-87ce-6f31f0c05742",
   "metadata": {},
   "outputs": [],
   "source": []
  },
  {
   "cell_type": "code",
   "execution_count": 318,
   "id": "94a848be-c21b-46a3-964e-9b4d94d9c25a",
   "metadata": {},
   "outputs": [
    {
     "name": "stdout",
     "output_type": "stream",
     "text": [
      "1.510826\n"
     ]
    }
   ],
   "source": [
    "#extra information about planet\n",
    "#orbital period\n",
    "period = pl['pl_orbper'].iloc[-1]\n",
    "print(period)"
   ]
  },
  {
   "cell_type": "code",
   "execution_count": 319,
   "id": "01b9c0ac-abd4-4aab-98d2-d83988e466d1",
   "metadata": {},
   "outputs": [
    {
     "name": "stdout",
     "output_type": "stream",
     "text": [
      "1.116\n"
     ]
    }
   ],
   "source": [
    "#orbital radius\n",
    "radius = pl['pl_rade'].iloc[-1]\n",
    "print(radius)"
   ]
  },
  {
   "cell_type": "code",
   "execution_count": null,
   "id": "2a4a4ed4-92c9-445e-8dda-744b96ae07e6",
   "metadata": {},
   "outputs": [],
   "source": []
  }
 ],
 "metadata": {
  "kernelspec": {
   "display_name": "Python 3 (ipykernel)",
   "language": "python",
   "name": "python3"
  },
  "language_info": {
   "codemirror_mode": {
    "name": "ipython",
    "version": 3
   },
   "file_extension": ".py",
   "mimetype": "text/x-python",
   "name": "python",
   "nbconvert_exporter": "python",
   "pygments_lexer": "ipython3",
   "version": "3.9.12"
  }
 },
 "nbformat": 4,
 "nbformat_minor": 5
}
